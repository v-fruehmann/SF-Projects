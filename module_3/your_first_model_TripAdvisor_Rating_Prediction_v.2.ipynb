{
 "cells": [
  {
   "cell_type": "markdown",
   "metadata": {},
   "source": [
    "# Загрузка Pandas и очистка данных"
   ]
  },
  {
   "cell_type": "code",
   "execution_count": 1,
   "metadata": {},
   "outputs": [],
   "source": [
    "import pandas as pd\n",
    "import numpy as np\n",
    "from sklearn.model_selection import train_test_split \n",
    "from sklearn.ensemble import RandomForestRegressor \n",
    "from sklearn import metrics\n",
    "from sklearn.preprocessing import StandardScaler\n",
    "from sklearn.preprocessing import LabelEncoder\n",
    "from ast import literal_eval\n",
    "from collections import Counter\n",
    "import datetime\n",
    "import os\n",
    "import matplotlib.pyplot as plt\n",
    "import seaborn as sns \n",
    "%matplotlib inline\n",
    "import re\n",
    "import math\n",
    "import copy\n",
    "from wordcloud import WordCloud"
   ]
  },
  {
   "cell_type": "code",
   "execution_count": 2,
   "metadata": {},
   "outputs": [],
   "source": [
    "df = pd.read_csv('main_task.csv')"
   ]
  },
  {
   "cell_type": "markdown",
   "metadata": {},
   "source": [
    "Описание датасета:\n",
    "\n",
    "Restaurant_id — идентификационный номер ресторана / сети ресторанов\n",
    "City — город, в котором находится ресторан\n",
    "Cuisine Style — кухня или кухни, к которым можно отнести блюда, предлагаемые в ресторане\n",
    "Ranking — место, которое занимает данный ресторан среди всех ресторанов своего города Rating — рейтинг ресторана по данным TripAdvisor (именно это значение должна будет предсказывать модель)\n",
    "Price Range — диапазон цен в ресторане\n",
    "Number of Reviews — количество отзывов о ресторане; Reviews — данные о двух отзывах, которые отображаются на сайте ресторана\n",
    "URL_TA — URL страницы ресторана на TripAdvisor\n",
    "ID_TA — идентификатор ресторана в базе данных TripAdvisor"
   ]
  },
  {
   "cell_type": "code",
   "execution_count": 3,
   "metadata": {},
   "outputs": [
    {
     "name": "stdout",
     "output_type": "stream",
     "text": [
      "<class 'pandas.core.frame.DataFrame'>\n",
      "RangeIndex: 40000 entries, 0 to 39999\n",
      "Data columns (total 10 columns):\n",
      " #   Column             Non-Null Count  Dtype  \n",
      "---  ------             --------------  -----  \n",
      " 0   Restaurant_id      40000 non-null  object \n",
      " 1   City               40000 non-null  object \n",
      " 2   Cuisine Style      30717 non-null  object \n",
      " 3   Ranking            40000 non-null  float64\n",
      " 4   Rating             40000 non-null  float64\n",
      " 5   Price Range        26114 non-null  object \n",
      " 6   Number of Reviews  37457 non-null  float64\n",
      " 7   Reviews            40000 non-null  object \n",
      " 8   URL_TA             40000 non-null  object \n",
      " 9   ID_TA              40000 non-null  object \n",
      "dtypes: float64(3), object(7)\n",
      "memory usage: 3.1+ MB\n"
     ]
    }
   ],
   "source": [
    "df.info()"
   ]
  },
  {
   "cell_type": "code",
   "execution_count": 4,
   "metadata": {},
   "outputs": [
    {
     "data": {
      "text/plain": [
       "Index(['Restaurant_id', 'City', 'Cuisine Style', 'Ranking', 'Rating',\n",
       "       'Price Range', 'Number of Reviews', 'Reviews', 'URL_TA', 'ID_TA'],\n",
       "      dtype='object')"
      ]
     },
     "execution_count": 4,
     "metadata": {},
     "output_type": "execute_result"
    }
   ],
   "source": [
    "df.columns"
   ]
  },
  {
   "cell_type": "code",
   "execution_count": 5,
   "metadata": {},
   "outputs": [],
   "source": [
    "# для удобства работы с данными переименуем столбцы\n",
    "df.rename(columns={'Cuisine Style': 'Cuisine_Style', 'Price Range': 'Price_Range',\n",
    "                   'Number of Reviews': 'Number_of_Reviews'}, inplace=True)"
   ]
  },
  {
   "cell_type": "code",
   "execution_count": 6,
   "metadata": {},
   "outputs": [
    {
     "data": {
      "text/plain": [
       "Price_Range          13886\n",
       "Cuisine_Style         9283\n",
       "Number_of_Reviews     2543\n",
       "ID_TA                    0\n",
       "URL_TA                   0\n",
       "Reviews                  0\n",
       "Rating                   0\n",
       "Ranking                  0\n",
       "City                     0\n",
       "Restaurant_id            0\n",
       "dtype: int64"
      ]
     },
     "execution_count": 6,
     "metadata": {},
     "output_type": "execute_result"
    }
   ],
   "source": [
    "# посмотрим на пропуски по столбцам\n",
    "df.isnull().sum().sort_values(ascending=False)"
   ]
  },
  {
   "cell_type": "code",
   "execution_count": 7,
   "metadata": {},
   "outputs": [
    {
     "data": {
      "text/html": [
       "<div>\n",
       "<style scoped>\n",
       "    .dataframe tbody tr th:only-of-type {\n",
       "        vertical-align: middle;\n",
       "    }\n",
       "\n",
       "    .dataframe tbody tr th {\n",
       "        vertical-align: top;\n",
       "    }\n",
       "\n",
       "    .dataframe thead th {\n",
       "        text-align: right;\n",
       "    }\n",
       "</style>\n",
       "<table border=\"1\" class=\"dataframe\">\n",
       "  <thead>\n",
       "    <tr style=\"text-align: right;\">\n",
       "      <th></th>\n",
       "      <th>Restaurant_id</th>\n",
       "      <th>City</th>\n",
       "      <th>Cuisine_Style</th>\n",
       "      <th>Ranking</th>\n",
       "      <th>Rating</th>\n",
       "      <th>Price_Range</th>\n",
       "      <th>Number_of_Reviews</th>\n",
       "      <th>Reviews</th>\n",
       "      <th>URL_TA</th>\n",
       "      <th>ID_TA</th>\n",
       "    </tr>\n",
       "  </thead>\n",
       "  <tbody>\n",
       "    <tr>\n",
       "      <th>28876</th>\n",
       "      <td>id_1678</td>\n",
       "      <td>London</td>\n",
       "      <td>['Bar', 'British', 'Pub', 'Vegetarian Friendly...</td>\n",
       "      <td>1681.0</td>\n",
       "      <td>4.0</td>\n",
       "      <td>$$ - $$$</td>\n",
       "      <td>158.0</td>\n",
       "      <td>[['Delicious Sunday roast', 'Great live music'...</td>\n",
       "      <td>/Restaurant_Review-g186338-d3568372-Reviews-Th...</td>\n",
       "      <td>d3568372</td>\n",
       "    </tr>\n",
       "    <tr>\n",
       "      <th>2829</th>\n",
       "      <td>id_11863</td>\n",
       "      <td>London</td>\n",
       "      <td>['Mediterranean', 'Middle Eastern', 'Persian']</td>\n",
       "      <td>11873.0</td>\n",
       "      <td>4.0</td>\n",
       "      <td>$$ - $$$</td>\n",
       "      <td>16.0</td>\n",
       "      <td>[['Laid back - almost horizontal!', 'Terrible ...</td>\n",
       "      <td>/Restaurant_Review-g186338-d10318795-Reviews-P...</td>\n",
       "      <td>d10318795</td>\n",
       "    </tr>\n",
       "    <tr>\n",
       "      <th>8790</th>\n",
       "      <td>id_1421</td>\n",
       "      <td>Amsterdam</td>\n",
       "      <td>['Middle Eastern', 'Fast Food', 'Mediterranean...</td>\n",
       "      <td>1424.0</td>\n",
       "      <td>5.0</td>\n",
       "      <td>NaN</td>\n",
       "      <td>11.0</td>\n",
       "      <td>[['Amazing food!', 'Great place for a late nig...</td>\n",
       "      <td>/Restaurant_Review-g188590-d10807927-Reviews-G...</td>\n",
       "      <td>d10807927</td>\n",
       "    </tr>\n",
       "    <tr>\n",
       "      <th>8650</th>\n",
       "      <td>id_1824</td>\n",
       "      <td>Vienna</td>\n",
       "      <td>NaN</td>\n",
       "      <td>1826.0</td>\n",
       "      <td>5.0</td>\n",
       "      <td>NaN</td>\n",
       "      <td>3.0</td>\n",
       "      <td>[['New biological smoothy bar'], ['10/24/2015']]</td>\n",
       "      <td>/Restaurant_Review-g190454-d8753407-Reviews-El...</td>\n",
       "      <td>d8753407</td>\n",
       "    </tr>\n",
       "    <tr>\n",
       "      <th>13973</th>\n",
       "      <td>id_1881</td>\n",
       "      <td>Stockholm</td>\n",
       "      <td>['Indian', 'Vegetarian Friendly']</td>\n",
       "      <td>1884.0</td>\n",
       "      <td>4.0</td>\n",
       "      <td>$$ - $$$</td>\n",
       "      <td>30.0</td>\n",
       "      <td>[['Average food and rude staff, poor selectio....</td>\n",
       "      <td>/Restaurant_Review-g189852-d4758347-Reviews-Sp...</td>\n",
       "      <td>d4758347</td>\n",
       "    </tr>\n",
       "  </tbody>\n",
       "</table>\n",
       "</div>"
      ],
      "text/plain": [
       "      Restaurant_id       City  \\\n",
       "28876       id_1678     London   \n",
       "2829       id_11863     London   \n",
       "8790        id_1421  Amsterdam   \n",
       "8650        id_1824     Vienna   \n",
       "13973       id_1881  Stockholm   \n",
       "\n",
       "                                           Cuisine_Style  Ranking  Rating  \\\n",
       "28876  ['Bar', 'British', 'Pub', 'Vegetarian Friendly...   1681.0     4.0   \n",
       "2829      ['Mediterranean', 'Middle Eastern', 'Persian']  11873.0     4.0   \n",
       "8790   ['Middle Eastern', 'Fast Food', 'Mediterranean...   1424.0     5.0   \n",
       "8650                                                 NaN   1826.0     5.0   \n",
       "13973                  ['Indian', 'Vegetarian Friendly']   1884.0     4.0   \n",
       "\n",
       "      Price_Range  Number_of_Reviews  \\\n",
       "28876    $$ - $$$              158.0   \n",
       "2829     $$ - $$$               16.0   \n",
       "8790          NaN               11.0   \n",
       "8650          NaN                3.0   \n",
       "13973    $$ - $$$               30.0   \n",
       "\n",
       "                                                 Reviews  \\\n",
       "28876  [['Delicious Sunday roast', 'Great live music'...   \n",
       "2829   [['Laid back - almost horizontal!', 'Terrible ...   \n",
       "8790   [['Amazing food!', 'Great place for a late nig...   \n",
       "8650    [['New biological smoothy bar'], ['10/24/2015']]   \n",
       "13973  [['Average food and rude staff, poor selectio....   \n",
       "\n",
       "                                                  URL_TA      ID_TA  \n",
       "28876  /Restaurant_Review-g186338-d3568372-Reviews-Th...   d3568372  \n",
       "2829   /Restaurant_Review-g186338-d10318795-Reviews-P...  d10318795  \n",
       "8790   /Restaurant_Review-g188590-d10807927-Reviews-G...  d10807927  \n",
       "8650   /Restaurant_Review-g190454-d8753407-Reviews-El...   d8753407  \n",
       "13973  /Restaurant_Review-g189852-d4758347-Reviews-Sp...   d4758347  "
      ]
     },
     "execution_count": 7,
     "metadata": {},
     "output_type": "execute_result"
    }
   ],
   "source": [
    "df.sample(5)"
   ]
  },
  {
   "cell_type": "markdown",
   "metadata": {},
   "source": [
    "Вывод: датасет с информацией о 40000 ресторанах состоит из 10 столбцов, из которых только 3 являются числовыми признаками (Ranking, Number_of_ Reviews, Rating), остальные 7 необходимо преобразовать,'Reviews' и 'Cuisine_Style' нужно преобразовать в списки. В 'Cuisine_Style','Price_Range','Number_of_Reviews' большое количество пропусков, которые будем заполнять наиболее часто встречающимися значениями."
   ]
  },
  {
   "cell_type": "markdown",
   "metadata": {},
   "source": [
    "# Подготовка данных"
   ]
  },
  {
   "cell_type": "code",
   "execution_count": 8,
   "metadata": {},
   "outputs": [],
   "source": [
    "def column_info(column):\n",
    "    print('Информация о столбце {}'.format(column))\n",
    "    print(f'Количество пустых строк: {df[column].isnull().sum()}')\n",
    "    print('Распределение столбца:', pd.DataFrame(df[column].value_counts()))\n",
    "    print(df[column].describe())\n",
    "    if df[column].dtype == 'int64' or df[column].dtype == 'float64':\n",
    "        median = df[column].median()\n",
    "        perc25 = df[column].quantile(0.25)\n",
    "        perc75 = df[column].quantile(0.75)\n",
    "        IQR = perc75 - perc25\n",
    "        print(f'25-й перцентиль: {perc25}, 75-й перцентиль: {perc75}, IQR: {IQR} Границы выбросов: [{perc25 - 1.5*IQR},{perc75 + 1.5*IQR}]')\n",
    "        df[column].hist(bins = 10, label = 'IQR')\n",
    "        plt.legend()\n",
    "    print('\\n')"
   ]
  },
  {
   "cell_type": "code",
   "execution_count": 9,
   "metadata": {},
   "outputs": [
    {
     "name": "stdout",
     "output_type": "stream",
     "text": [
      "Информация о столбце Rating\n",
      "Количество пустых строк: 0\n",
      "Распределение столбца:      Rating\n",
      "4.0   13692\n",
      "4.5   10929\n",
      "3.5    6824\n",
      "5.0    3879\n",
      "3.0    2955\n",
      "2.5     915\n",
      "2.0     466\n",
      "1.0     201\n",
      "1.5     139\n",
      "count    40000.000000\n",
      "mean         3.993037\n",
      "std          0.668417\n",
      "min          1.000000\n",
      "25%          3.500000\n",
      "50%          4.000000\n",
      "75%          4.500000\n",
      "max          5.000000\n",
      "Name: Rating, dtype: float64\n",
      "25-й перцентиль: 3.5, 75-й перцентиль: 4.5, IQR: 1.0 Границы выбросов: [2.0,6.0]\n",
      "\n",
      "\n"
     ]
    },
    {
     "data": {
      "image/png": "[encoded data removed]",
      "text/plain": [
       "<Figure size 432x288 with 1 Axes>"
      ]
     },
     "metadata": {
      "needs_background": "light"
     },
     "output_type": "display_data"
    }
   ],
   "source": [
    "# начнем анализ с целевой переменной\n",
    "column_info('Rating')"
   ]
  },
  {
   "cell_type": "markdown",
   "metadata": {},
   "source": [
    "Позже, в разделе визуализации, рассмотрим распределение целевой переменной относительно других признаков."
   ]
  },
  {
   "cell_type": "code",
   "execution_count": 10,
   "metadata": {},
   "outputs": [
    {
     "name": "stdout",
     "output_type": "stream",
     "text": [
      "Информация о столбце Ranking\n",
      "Количество пустых строк: 0\n",
      "Распределение столбца:          Ranking\n",
      "1080.0        19\n",
      "437.0         18\n",
      "491.0         18\n",
      "345.0         18\n",
      "431.0         18\n",
      "...          ...\n",
      "14711.0        1\n",
      "9409.0         1\n",
      "14109.0        1\n",
      "10501.0        1\n",
      "5699.0         1\n",
      "\n",
      "[11936 rows x 1 columns]\n",
      "count    40000.000000\n",
      "mean      3676.028525\n",
      "std       3708.749567\n",
      "min          1.000000\n",
      "25%        973.000000\n",
      "50%       2285.000000\n",
      "75%       5260.000000\n",
      "max      16444.000000\n",
      "Name: Ranking, dtype: float64\n",
      "25-й перцентиль: 973.0, 75-й перцентиль: 5260.0, IQR: 4287.0 Границы выбросов: [-5457.5,11690.5]\n",
      "\n",
      "\n"
     ]
    },
    {
     "data": {
      "image/png": "[encoded data removed]",
      "text/plain": [
       "<Figure size 432x288 with 1 Axes>"
      ]
     },
     "metadata": {
      "needs_background": "light"
     },
     "output_type": "display_data"
    }
   ],
   "source": [
    "column_info('Ranking')"
   ]
  },
  {
   "cell_type": "markdown",
   "metadata": {},
   "source": [
    "Вывод: столбец нормально распределен. Далее посмотрим на распределение 'Ranking' относительно других признаков."
   ]
  },
  {
   "cell_type": "code",
   "execution_count": 11,
   "metadata": {},
   "outputs": [
    {
     "name": "stdout",
     "output_type": "stream",
     "text": [
      "Информация о столбце Number_of_Reviews\n",
      "Количество пустых строк: 2543\n",
      "Распределение столбца:         Number_of_Reviews\n",
      "2.0                  1916\n",
      "3.0                  1636\n",
      "4.0                  1370\n",
      "5.0                  1181\n",
      "6.0                  1018\n",
      "...                   ...\n",
      "2141.0                  1\n",
      "920.0                   1\n",
      "1404.0                  1\n",
      "979.0                   1\n",
      "1698.0                  1\n",
      "\n",
      "[1459 rows x 1 columns]\n",
      "count    37457.000000\n",
      "mean       124.825480\n",
      "std        295.666352\n",
      "min          2.000000\n",
      "25%          9.000000\n",
      "50%         33.000000\n",
      "75%        115.000000\n",
      "max       9660.000000\n",
      "Name: Number_of_Reviews, dtype: float64\n",
      "25-й перцентиль: 9.0, 75-й перцентиль: 115.0, IQR: 106.0 Границы выбросов: [-150.0,274.0]\n",
      "\n",
      "\n"
     ]
    },
    {
     "data": {
      "image/png": "[encoded data removed]",
      "text/plain": [
       "<Figure size 432x288 with 1 Axes>"
      ]
     },
     "metadata": {
      "needs_background": "light"
     },
     "output_type": "display_data"
    }
   ],
   "source": [
    "column_info('Number_of_Reviews')"
   ]
  },
  {
   "cell_type": "code",
   "execution_count": 12,
   "metadata": {},
   "outputs": [],
   "source": [
    "# заполним пропуски самым частым значением\n",
    "df['NAN_Number_of_Reviews'] = pd.isna(\n",
    "    df['Number_of_Reviews']).astype('float64')\n",
    "df['Number_of_Reviews'].fillna(df['Number_of_Reviews'].mode()[0], inplace=True)"
   ]
  },
  {
   "cell_type": "code",
   "execution_count": 13,
   "metadata": {},
   "outputs": [
    {
     "name": "stdout",
     "output_type": "stream",
     "text": [
      "<class 'pandas.core.frame.DataFrame'>\n",
      "RangeIndex: 40000 entries, 0 to 39999\n",
      "Data columns (total 11 columns):\n",
      " #   Column                 Non-Null Count  Dtype  \n",
      "---  ------                 --------------  -----  \n",
      " 0   Restaurant_id          40000 non-null  object \n",
      " 1   City                   40000 non-null  object \n",
      " 2   Cuisine_Style          30717 non-null  object \n",
      " 3   Ranking                40000 non-null  float64\n",
      " 4   Rating                 40000 non-null  float64\n",
      " 5   Price_Range            26114 non-null  object \n",
      " 6   Number_of_Reviews      40000 non-null  float64\n",
      " 7   Reviews                40000 non-null  object \n",
      " 8   URL_TA                 40000 non-null  object \n",
      " 9   ID_TA                  40000 non-null  object \n",
      " 10  NAN_Number_of_Reviews  40000 non-null  float64\n",
      "dtypes: float64(4), object(7)\n",
      "memory usage: 3.4+ MB\n"
     ]
    }
   ],
   "source": [
    "df.info()"
   ]
  },
  {
   "cell_type": "code",
   "execution_count": 14,
   "metadata": {},
   "outputs": [
    {
     "data": {
      "text/plain": [
       "City\n",
       "London        746837.0\n",
       "Rome          584101.0\n",
       "Paris         561892.0\n",
       "Milan         352843.0\n",
       "Barcelona     337940.0\n",
       "Madrid        292041.0\n",
       "Prague        159327.0\n",
       "Lisbon        153875.0\n",
       "Amsterdam     152009.0\n",
       "Edinburgh     134427.0\n",
       "Berlin        130194.0\n",
       "Budapest      119305.0\n",
       "Dublin         99531.0\n",
       "Vienna         89605.0\n",
       "Brussels       88165.0\n",
       "Lyon           73230.0\n",
       "Munich         67431.0\n",
       "Oporto         65049.0\n",
       "Stockholm      59199.0\n",
       "Athens         58117.0\n",
       "Copenhagen     56570.0\n",
       "Krakow         50091.0\n",
       "Warsaw         42319.0\n",
       "Hamburg        40728.0\n",
       "Zurich         39233.0\n",
       "Oslo           34783.0\n",
       "Geneva         27863.0\n",
       "Helsinki       21300.0\n",
       "Luxembourg     16210.0\n",
       "Bratislava     13783.0\n",
       "Ljubljana      12676.0\n",
       "Name: Number_of_Reviews, dtype: float64"
      ]
     },
     "execution_count": 14,
     "metadata": {},
     "output_type": "execute_result"
    }
   ],
   "source": [
    "# распределение количества отзывов по городам\n",
    "review_city = df.groupby(['City'])['Number_of_Reviews'].sum().sort_values(ascending=False)\n",
    "review_city"
   ]
  },
  {
   "cell_type": "markdown",
   "metadata": {},
   "source": [
    "Вывод: пропуски заполнили наиболее часто встречающимся значением, чем больше город, тем больше отзывов. Как видим, признак распределен неравномерно и его распределение сильно смещено вправо."
   ]
  },
  {
   "cell_type": "markdown",
   "metadata": {},
   "source": [
    "# Ознакомимся с категориальными признаками:"
   ]
  },
  {
   "cell_type": "code",
   "execution_count": 15,
   "metadata": {},
   "outputs": [
    {
     "name": "stdout",
     "output_type": "stream",
     "text": [
      "Информация о столбце Restaurant_id\n",
      "Количество пустых строк: 0\n",
      "Распределение столбца:           Restaurant_id\n",
      "id_871               18\n",
      "id_633               18\n",
      "id_227               18\n",
      "id_436               18\n",
      "id_71                17\n",
      "...                 ...\n",
      "id_3238               1\n",
      "id_9820               1\n",
      "id_15939              1\n",
      "id_4323               1\n",
      "id_13358              1\n",
      "\n",
      "[11909 rows x 1 columns]\n",
      "count      40000\n",
      "unique     11909\n",
      "top       id_871\n",
      "freq          18\n",
      "Name: Restaurant_id, dtype: object\n",
      "\n",
      "\n",
      "None\n",
      "Информация о столбце City\n",
      "Количество пустых строк: 0\n",
      "Распределение столбца:             City\n",
      "London      5757\n",
      "Paris       4897\n",
      "Madrid      3108\n",
      "Barcelona   2734\n",
      "Berlin      2155\n",
      "Milan       2133\n",
      "Rome        2078\n",
      "Prague      1443\n",
      "Lisbon      1300\n",
      "Vienna      1166\n",
      "Amsterdam   1086\n",
      "Brussels    1060\n",
      "Hamburg      949\n",
      "Munich       893\n",
      "Lyon         892\n",
      "Stockholm    820\n",
      "Budapest     816\n",
      "Warsaw       727\n",
      "Dublin       673\n",
      "Copenhagen   659\n",
      "Athens       628\n",
      "Edinburgh    596\n",
      "Zurich       538\n",
      "Oporto       513\n",
      "Geneva       481\n",
      "Krakow       443\n",
      "Oslo         385\n",
      "Helsinki     376\n",
      "Bratislava   301\n",
      "Luxembourg   210\n",
      "Ljubljana    183\n",
      "count      40000\n",
      "unique        31\n",
      "top       London\n",
      "freq        5757\n",
      "Name: City, dtype: object\n",
      "\n",
      "\n",
      "None\n",
      "Информация о столбце Cuisine_Style\n",
      "Количество пустых строк: 9283\n",
      "Распределение столбца:                                                     Cuisine_Style\n",
      "['Italian']                                                  1032\n",
      "['French']                                                    805\n",
      "['Spanish']                                                   695\n",
      "['French', 'European']                                        405\n",
      "['Cafe']                                                      403\n",
      "...                                                           ...\n",
      "['Italian', 'Pizza', 'Mediterranean', 'Soups', ...              1\n",
      "['British', 'Contemporary', 'Gastropub', 'Bar',...              1\n",
      "['Japanese', 'Vegetarian Friendly', 'Gluten Fre...              1\n",
      "['Bar', 'Sushi', 'European', 'Portuguese', 'Win...              1\n",
      "['Spanish', 'French']                                           1\n",
      "\n",
      "[9007 rows x 1 columns]\n",
      "count           30717\n",
      "unique           9007\n",
      "top       ['Italian']\n",
      "freq             1032\n",
      "Name: Cuisine_Style, dtype: object\n",
      "\n",
      "\n",
      "None\n",
      "Информация о столбце Price_Range\n",
      "Количество пустых строк: 13886\n",
      "Распределение столбца:           Price_Range\n",
      "$$ - $$$        18412\n",
      "$                6279\n",
      "$$$$             1423\n",
      "count        26114\n",
      "unique           3\n",
      "top       $$ - $$$\n",
      "freq         18412\n",
      "Name: Price_Range, dtype: object\n",
      "\n",
      "\n",
      "None\n",
      "Информация о столбце Reviews\n",
      "Количество пустых строк: 0\n",
      "Распределение столбца:                                                     Reviews\n",
      "[[], []]                                               6471\n",
      "[['The real codido madrileño'], ['03/31/2017']]           2\n",
      "[['Absolutely authentic and delicious!', 'Wonde...        2\n",
      "[['Great food, service and atmosphere', 'Decor ...        2\n",
      "[['Thursday snack', 'Good value for money & goo...        2\n",
      "...                                                     ...\n",
      "[['Healthy lunch', 'Great organic lunch!'], ['1...        1\n",
      "[['Quiet, non smoking, central, love it', 'Good...        1\n",
      "[['Popular Real Ale Pub', 'Great pub'], ['12/17...        1\n",
      "[['good takeaway', 'The go-to place after a nig...        1\n",
      "[['Very good potato, not so fast food', 'Potato...        1\n",
      "\n",
      "[33516 rows x 1 columns]\n",
      "count        40000\n",
      "unique       33516\n",
      "top       [[], []]\n",
      "freq          6471\n",
      "Name: Reviews, dtype: object\n",
      "\n",
      "\n",
      "None\n",
      "Информация о столбце URL_TA\n",
      "Количество пустых строк: 0\n",
      "Распределение столбца:                                                     URL_TA\n",
      "/Restaurant_Review-g187514-d7809594-Reviews-La_...       2\n",
      "/Restaurant_Review-g187514-d4600226-Reviews-Caf...       2\n",
      "/Restaurant_Review-g187514-d10047799-Reviews-En...       2\n",
      "/Restaurant_Review-g187514-d7337366-Reviews-Lad...       2\n",
      "/Restaurant_Review-g187514-d8753348-Reviews-Tro...       2\n",
      "...                                                    ...\n",
      "/Restaurant_Review-g187147-d719796-Reviews-Orie...       1\n",
      "/Restaurant_Review-g274707-d3640421-Reviews-My_...       1\n",
      "/Restaurant_Review-g187147-d10040334-Reviews-Co...       1\n",
      "/Restaurant_Review-g187497-d717375-Reviews-Punj...       1\n",
      "/Restaurant_Review-g187147-d5955847-Reviews-Che...       1\n",
      "\n",
      "[39980 rows x 1 columns]\n",
      "count                                                 40000\n",
      "unique                                                39980\n",
      "top       /Restaurant_Review-g187514-d7809594-Reviews-La...\n",
      "freq                                                      2\n",
      "Name: URL_TA, dtype: object\n",
      "\n",
      "\n",
      "None\n",
      "Информация о столбце ID_TA\n",
      "Количество пустых строк: 0\n",
      "Распределение столбца:            ID_TA\n",
      "d7809594       2\n",
      "d793170        2\n",
      "d11698990      2\n",
      "d13002276      2\n",
      "d1315077       2\n",
      "...          ...\n",
      "d697019        1\n",
      "d3180656       1\n",
      "d2098316       1\n",
      "d1392601       1\n",
      "d3253049       1\n",
      "\n",
      "[39980 rows x 1 columns]\n",
      "count        40000\n",
      "unique       39980\n",
      "top       d7809594\n",
      "freq             2\n",
      "Name: ID_TA, dtype: object\n",
      "\n",
      "\n",
      "None\n"
     ]
    }
   ],
   "source": [
    "for column in df.columns:\n",
    "    if df[column].dtypes == object:\n",
    "        print(column_info(column))"
   ]
  },
  {
   "cell_type": "markdown",
   "metadata": {},
   "source": [
    "1. Restaurant_id"
   ]
  },
  {
   "cell_type": "code",
   "execution_count": 16,
   "metadata": {},
   "outputs": [
    {
     "data": {
      "text/plain": [
       "id_871      18\n",
       "id_633      18\n",
       "id_227      18\n",
       "id_436      18\n",
       "id_71       17\n",
       "            ..\n",
       "id_3238      1\n",
       "id_9820      1\n",
       "id_15939     1\n",
       "id_4323      1\n",
       "id_13358     1\n",
       "Name: Restaurant_id, Length: 11909, dtype: int64"
      ]
     },
     "execution_count": 16,
     "metadata": {},
     "output_type": "execute_result"
    }
   ],
   "source": [
    "df['Restaurant_id'].value_counts()"
   ]
  },
  {
   "cell_type": "code",
   "execution_count": 17,
   "metadata": {
    "scrolled": true
   },
   "outputs": [
    {
     "data": {
      "text/html": [
       "<div>\n",
       "<style scoped>\n",
       "    .dataframe tbody tr th:only-of-type {\n",
       "        vertical-align: middle;\n",
       "    }\n",
       "\n",
       "    .dataframe tbody tr th {\n",
       "        vertical-align: top;\n",
       "    }\n",
       "\n",
       "    .dataframe thead th {\n",
       "        text-align: right;\n",
       "    }\n",
       "</style>\n",
       "<table border=\"1\" class=\"dataframe\">\n",
       "  <thead>\n",
       "    <tr style=\"text-align: right;\">\n",
       "      <th></th>\n",
       "      <th>Restaurant_id</th>\n",
       "      <th>City</th>\n",
       "      <th>Cuisine_Style</th>\n",
       "      <th>Ranking</th>\n",
       "      <th>Rating</th>\n",
       "      <th>Price_Range</th>\n",
       "      <th>Number_of_Reviews</th>\n",
       "      <th>Reviews</th>\n",
       "      <th>URL_TA</th>\n",
       "      <th>ID_TA</th>\n",
       "      <th>NAN_Number_of_Reviews</th>\n",
       "    </tr>\n",
       "  </thead>\n",
       "  <tbody>\n",
       "    <tr>\n",
       "      <th>17540</th>\n",
       "      <td>id_633</td>\n",
       "      <td>Hamburg</td>\n",
       "      <td>['Brazilian']</td>\n",
       "      <td>634.0</td>\n",
       "      <td>4.0</td>\n",
       "      <td>$$ - $$$</td>\n",
       "      <td>36.0</td>\n",
       "      <td>[['nice Brazilian reastaurent in Hamburg', 'Ru...</td>\n",
       "      <td>/Restaurant_Review-g187331-d10212208-Reviews-P...</td>\n",
       "      <td>d10212208</td>\n",
       "      <td>0.0</td>\n",
       "    </tr>\n",
       "    <tr>\n",
       "      <th>4359</th>\n",
       "      <td>id_633</td>\n",
       "      <td>Rome</td>\n",
       "      <td>['Italian', 'Pizza', 'Fast Food', 'Mediterrane...</td>\n",
       "      <td>634.0</td>\n",
       "      <td>4.5</td>\n",
       "      <td>$</td>\n",
       "      <td>600.0</td>\n",
       "      <td>[['Cheap, delicious, good service, quick', 'Gr...</td>\n",
       "      <td>/Restaurant_Review-g187791-d3190881-Reviews-Re...</td>\n",
       "      <td>d3190881</td>\n",
       "      <td>0.0</td>\n",
       "    </tr>\n",
       "    <tr>\n",
       "      <th>25848</th>\n",
       "      <td>id_633</td>\n",
       "      <td>Madrid</td>\n",
       "      <td>['Mediterranean', 'Spanish']</td>\n",
       "      <td>634.0</td>\n",
       "      <td>4.5</td>\n",
       "      <td>$$ - $$$</td>\n",
       "      <td>149.0</td>\n",
       "      <td>[['Best show in town!', 'Awsome flamenco class...</td>\n",
       "      <td>/Restaurant_Review-g187514-d4233083-Reviews-Ca...</td>\n",
       "      <td>d4233083</td>\n",
       "      <td>0.0</td>\n",
       "    </tr>\n",
       "    <tr>\n",
       "      <th>35323</th>\n",
       "      <td>id_633</td>\n",
       "      <td>Geneva</td>\n",
       "      <td>NaN</td>\n",
       "      <td>636.0</td>\n",
       "      <td>4.0</td>\n",
       "      <td>NaN</td>\n",
       "      <td>17.0</td>\n",
       "      <td>[['Big food!!', 'De très bons tacos // Excelle...</td>\n",
       "      <td>/Restaurant_Review-g188057-d10250682-Reviews-S...</td>\n",
       "      <td>d10250682</td>\n",
       "      <td>0.0</td>\n",
       "    </tr>\n",
       "    <tr>\n",
       "      <th>35330</th>\n",
       "      <td>id_633</td>\n",
       "      <td>Prague</td>\n",
       "      <td>['Bar', 'European', 'Pub', 'Czech', 'Eastern E...</td>\n",
       "      <td>634.0</td>\n",
       "      <td>4.0</td>\n",
       "      <td>$</td>\n",
       "      <td>199.0</td>\n",
       "      <td>[['Fresh tank beers.', 'Great food, good beer'...</td>\n",
       "      <td>/Restaurant_Review-g274707-d1093686-Reviews-Ba...</td>\n",
       "      <td>d1093686</td>\n",
       "      <td>0.0</td>\n",
       "    </tr>\n",
       "    <tr>\n",
       "      <th>2927</th>\n",
       "      <td>id_633</td>\n",
       "      <td>Budapest</td>\n",
       "      <td>['Vegetarian Friendly']</td>\n",
       "      <td>634.0</td>\n",
       "      <td>4.5</td>\n",
       "      <td>$</td>\n",
       "      <td>18.0</td>\n",
       "      <td>[['Good qualitybreakfast and lovely venue', 'G...</td>\n",
       "      <td>/Restaurant_Review-g274887-d12327467-Reviews-F...</td>\n",
       "      <td>d12327467</td>\n",
       "      <td>0.0</td>\n",
       "    </tr>\n",
       "    <tr>\n",
       "      <th>836</th>\n",
       "      <td>id_633</td>\n",
       "      <td>Milan</td>\n",
       "      <td>['Italian', 'Pizza', 'Mediterranean', 'Vegetar...</td>\n",
       "      <td>635.0</td>\n",
       "      <td>3.5</td>\n",
       "      <td>$$ - $$$</td>\n",
       "      <td>743.0</td>\n",
       "      <td>[['Sunshine of Italian pizza in Milan on a we....</td>\n",
       "      <td>/Restaurant_Review-g187849-d7660183-Reviews-Br...</td>\n",
       "      <td>d7660183</td>\n",
       "      <td>0.0</td>\n",
       "    </tr>\n",
       "  </tbody>\n",
       "</table>\n",
       "</div>"
      ],
      "text/plain": [
       "      Restaurant_id      City  \\\n",
       "17540        id_633   Hamburg   \n",
       "4359         id_633      Rome   \n",
       "25848        id_633    Madrid   \n",
       "35323        id_633    Geneva   \n",
       "35330        id_633    Prague   \n",
       "2927         id_633  Budapest   \n",
       "836          id_633     Milan   \n",
       "\n",
       "                                           Cuisine_Style  Ranking  Rating  \\\n",
       "17540                                      ['Brazilian']    634.0     4.0   \n",
       "4359   ['Italian', 'Pizza', 'Fast Food', 'Mediterrane...    634.0     4.5   \n",
       "25848                       ['Mediterranean', 'Spanish']    634.0     4.5   \n",
       "35323                                                NaN    636.0     4.0   \n",
       "35330  ['Bar', 'European', 'Pub', 'Czech', 'Eastern E...    634.0     4.0   \n",
       "2927                             ['Vegetarian Friendly']    634.0     4.5   \n",
       "836    ['Italian', 'Pizza', 'Mediterranean', 'Vegetar...    635.0     3.5   \n",
       "\n",
       "      Price_Range  Number_of_Reviews  \\\n",
       "17540    $$ - $$$               36.0   \n",
       "4359            $              600.0   \n",
       "25848    $$ - $$$              149.0   \n",
       "35323         NaN               17.0   \n",
       "35330           $              199.0   \n",
       "2927            $               18.0   \n",
       "836      $$ - $$$              743.0   \n",
       "\n",
       "                                                 Reviews  \\\n",
       "17540  [['nice Brazilian reastaurent in Hamburg', 'Ru...   \n",
       "4359   [['Cheap, delicious, good service, quick', 'Gr...   \n",
       "25848  [['Best show in town!', 'Awsome flamenco class...   \n",
       "35323  [['Big food!!', 'De très bons tacos // Excelle...   \n",
       "35330  [['Fresh tank beers.', 'Great food, good beer'...   \n",
       "2927   [['Good qualitybreakfast and lovely venue', 'G...   \n",
       "836    [['Sunshine of Italian pizza in Milan on a we....   \n",
       "\n",
       "                                                  URL_TA      ID_TA  \\\n",
       "17540  /Restaurant_Review-g187331-d10212208-Reviews-P...  d10212208   \n",
       "4359   /Restaurant_Review-g187791-d3190881-Reviews-Re...   d3190881   \n",
       "25848  /Restaurant_Review-g187514-d4233083-Reviews-Ca...   d4233083   \n",
       "35323  /Restaurant_Review-g188057-d10250682-Reviews-S...  d10250682   \n",
       "35330  /Restaurant_Review-g274707-d1093686-Reviews-Ba...   d1093686   \n",
       "2927   /Restaurant_Review-g274887-d12327467-Reviews-F...  d12327467   \n",
       "836    /Restaurant_Review-g187849-d7660183-Reviews-Br...   d7660183   \n",
       "\n",
       "       NAN_Number_of_Reviews  \n",
       "17540                    0.0  \n",
       "4359                     0.0  \n",
       "25848                    0.0  \n",
       "35323                    0.0  \n",
       "35330                    0.0  \n",
       "2927                     0.0  \n",
       "836                      0.0  "
      ]
     },
     "execution_count": 17,
     "metadata": {},
     "output_type": "execute_result"
    }
   ],
   "source": [
    "# посмотрим, как выглядят уникальные значения в этом столбце\n",
    "df_Restaurant_id = df[df['Restaurant_id'] == 'id_633']\n",
    "df_Restaurant_id.sample(7)"
   ]
  },
  {
   "cell_type": "markdown",
   "metadata": {},
   "source": [
    "Вывод: непонятно,что делать с задвоенными данными, кажется, что удалить их как дубликаты будет нецелесообразным, так как они относятся к разным городам, удалим весь столбец."
   ]
  },
  {
   "cell_type": "code",
   "execution_count": 18,
   "metadata": {},
   "outputs": [],
   "source": [
    "df.drop(['Restaurant_id'], inplace = True, axis = 1)"
   ]
  },
  {
   "cell_type": "markdown",
   "metadata": {},
   "source": [
    "2. City"
   ]
  },
  {
   "cell_type": "code",
   "execution_count": 19,
   "metadata": {},
   "outputs": [
    {
     "data": {
      "text/plain": [
       "London        5757\n",
       "Paris         4897\n",
       "Madrid        3108\n",
       "Barcelona     2734\n",
       "Berlin        2155\n",
       "Milan         2133\n",
       "Rome          2078\n",
       "Prague        1443\n",
       "Lisbon        1300\n",
       "Vienna        1166\n",
       "Amsterdam     1086\n",
       "Brussels      1060\n",
       "Hamburg        949\n",
       "Munich         893\n",
       "Lyon           892\n",
       "Stockholm      820\n",
       "Budapest       816\n",
       "Warsaw         727\n",
       "Dublin         673\n",
       "Copenhagen     659\n",
       "Athens         628\n",
       "Edinburgh      596\n",
       "Zurich         538\n",
       "Oporto         513\n",
       "Geneva         481\n",
       "Krakow         443\n",
       "Oslo           385\n",
       "Helsinki       376\n",
       "Bratislava     301\n",
       "Luxembourg     210\n",
       "Ljubljana      183\n",
       "Name: City, dtype: int64"
      ]
     },
     "execution_count": 19,
     "metadata": {},
     "output_type": "execute_result"
    }
   ],
   "source": [
    "df['City'].value_counts()"
   ]
  },
  {
   "cell_type": "code",
   "execution_count": null,
   "metadata": {},
   "outputs": [],
   "source": [
    "# здесь был код для изменения названия города Порту, но данное изменение ухудшает работу модели"
   ]
  },
  {
   "cell_type": "code",
   "execution_count": 20,
   "metadata": {},
   "outputs": [],
   "source": [
    "# добавим dummies на каждый город \n",
    "df_City_dummies = pd.get_dummies(df['City'], dummy_na=False).astype('float64')"
   ]
  },
  {
   "cell_type": "code",
   "execution_count": 21,
   "metadata": {},
   "outputs": [
    {
     "name": "stdout",
     "output_type": "stream",
     "text": [
      "<class 'pandas.core.frame.DataFrame'>\n",
      "RangeIndex: 40000 entries, 0 to 39999\n",
      "Data columns (total 10 columns):\n",
      " #   Column                 Non-Null Count  Dtype  \n",
      "---  ------                 --------------  -----  \n",
      " 0   City                   40000 non-null  object \n",
      " 1   Cuisine_Style          30717 non-null  object \n",
      " 2   Ranking                40000 non-null  float64\n",
      " 3   Rating                 40000 non-null  float64\n",
      " 4   Price_Range            26114 non-null  object \n",
      " 5   Number_of_Reviews      40000 non-null  float64\n",
      " 6   Reviews                40000 non-null  object \n",
      " 7   URL_TA                 40000 non-null  object \n",
      " 8   ID_TA                  40000 non-null  object \n",
      " 9   NAN_Number_of_Reviews  40000 non-null  float64\n",
      "dtypes: float64(4), object(6)\n",
      "memory usage: 3.1+ MB\n"
     ]
    }
   ],
   "source": [
    "df.info()"
   ]
  },
  {
   "cell_type": "code",
   "execution_count": 22,
   "metadata": {},
   "outputs": [],
   "source": [
    "# добавим признак столица или нет\n",
    "list_not_capital = ['Barcelona', 'Milan', 'Hamburg', 'Munich', \n",
    "                          'Lyon', 'Zurich', 'Oporto', 'Geneva', 'Krakow']\n",
    "df['Capital_City'] = df['City'].apply(lambda x: 0 if x in list_not_capital else 1)"
   ]
  },
  {
   "cell_type": "code",
   "execution_count": 23,
   "metadata": {},
   "outputs": [],
   "source": [
    "# добавим параметр население городов на 2020, информация \n",
    "# с сайта https://worldpopulationreview.com/world-cities\n",
    "dict_population = {\n",
    "    'London': 8908, 'Paris': 2206, 'Madrid': 3345, 'Barcelona': 1621,\n",
    "    'Berlin': 3769, 'Milan': 1399, 'Rome': 2860, 'Prague': 1324,\n",
    "    'Lisbon': 505, 'Vienna': 1888, 'Amsterdam': 872, 'Brussels': 179,\n",
    "    'Hamburg': 1845, 'Munich': 1484, 'Lyon': 516, 'Stockholm': 975,\n",
    "    'Budapest': 1768, 'Warsaw': 1790, 'Dublin': 553,\n",
    "    'Copenhagen': 794, 'Athens': 665, 'Edinburgh': 536,\n",
    "    'Zurich': 341, 'Oporto': 287, 'Geneva': 201, 'Krakow': 779,\n",
    "    'Oslo': 697, 'Helsinki': 656, 'Bratislava': 432,\n",
    "    'Luxembourg': 122, 'Ljubljana': 295\n",
    "}\n",
    "df['Сity_population'] = df.apply(\n",
    "    lambda row: dict_population[row['City']], axis=1)"
   ]
  },
  {
   "cell_type": "code",
   "execution_count": 24,
   "metadata": {},
   "outputs": [
    {
     "name": "stdout",
     "output_type": "stream",
     "text": [
      "<class 'pandas.core.frame.DataFrame'>\n",
      "RangeIndex: 40000 entries, 0 to 39999\n",
      "Data columns (total 12 columns):\n",
      " #   Column                 Non-Null Count  Dtype  \n",
      "---  ------                 --------------  -----  \n",
      " 0   City                   40000 non-null  object \n",
      " 1   Cuisine_Style          30717 non-null  object \n",
      " 2   Ranking                40000 non-null  float64\n",
      " 3   Rating                 40000 non-null  float64\n",
      " 4   Price_Range            26114 non-null  object \n",
      " 5   Number_of_Reviews      40000 non-null  float64\n",
      " 6   Reviews                40000 non-null  object \n",
      " 7   URL_TA                 40000 non-null  object \n",
      " 8   ID_TA                  40000 non-null  object \n",
      " 9   NAN_Number_of_Reviews  40000 non-null  float64\n",
      " 10  Capital_City           40000 non-null  int64  \n",
      " 11  Сity_population        40000 non-null  int64  \n",
      "dtypes: float64(4), int64(2), object(6)\n",
      "memory usage: 3.7+ MB\n"
     ]
    }
   ],
   "source": [
    "df.info()"
   ]
  },
  {
   "cell_type": "code",
   "execution_count": 25,
   "metadata": {},
   "outputs": [],
   "source": [
    "# определим количество ресторанов в каждом городе\n",
    "df['Rest_num'] = df['City'].apply(lambda x: dict_population[x])"
   ]
  },
  {
   "cell_type": "code",
   "execution_count": 26,
   "metadata": {},
   "outputs": [
    {
     "data": {
      "text/html": [
       "<div>\n",
       "<style scoped>\n",
       "    .dataframe tbody tr th:only-of-type {\n",
       "        vertical-align: middle;\n",
       "    }\n",
       "\n",
       "    .dataframe tbody tr th {\n",
       "        vertical-align: top;\n",
       "    }\n",
       "\n",
       "    .dataframe thead th {\n",
       "        text-align: right;\n",
       "    }\n",
       "</style>\n",
       "<table border=\"1\" class=\"dataframe\">\n",
       "  <thead>\n",
       "    <tr style=\"text-align: right;\">\n",
       "      <th></th>\n",
       "      <th>City</th>\n",
       "      <th>Cuisine_Style</th>\n",
       "      <th>Ranking</th>\n",
       "      <th>Rating</th>\n",
       "      <th>Price_Range</th>\n",
       "      <th>Number_of_Reviews</th>\n",
       "      <th>Reviews</th>\n",
       "      <th>URL_TA</th>\n",
       "      <th>ID_TA</th>\n",
       "      <th>NAN_Number_of_Reviews</th>\n",
       "      <th>Capital_City</th>\n",
       "      <th>Сity_population</th>\n",
       "      <th>Rest_num</th>\n",
       "    </tr>\n",
       "  </thead>\n",
       "  <tbody>\n",
       "    <tr>\n",
       "      <th>31356</th>\n",
       "      <td>London</td>\n",
       "      <td>['Italian', 'Pizza', 'Vegetarian Friendly', 'V...</td>\n",
       "      <td>894.0</td>\n",
       "      <td>4.0</td>\n",
       "      <td>$$ - $$$</td>\n",
       "      <td>1207.0</td>\n",
       "      <td>[['Nice Italian food', '50-50'], ['12/06/2017'...</td>\n",
       "      <td>/Restaurant_Review-g186338-d1018964-Reviews-Zi...</td>\n",
       "      <td>d1018964</td>\n",
       "      <td>0.0</td>\n",
       "      <td>1</td>\n",
       "      <td>8908</td>\n",
       "      <td>8908</td>\n",
       "    </tr>\n",
       "    <tr>\n",
       "      <th>35668</th>\n",
       "      <td>Vienna</td>\n",
       "      <td>['Cafe', 'European', 'Vegetarian Friendly', 'V...</td>\n",
       "      <td>296.0</td>\n",
       "      <td>4.0</td>\n",
       "      <td>$$ - $$$</td>\n",
       "      <td>201.0</td>\n",
       "      <td>[['Top notch Eggs Benedict', 'Breakfast favori...</td>\n",
       "      <td>/Restaurant_Review-g190454-d7389778-Reviews-Jo...</td>\n",
       "      <td>d7389778</td>\n",
       "      <td>0.0</td>\n",
       "      <td>1</td>\n",
       "      <td>1888</td>\n",
       "      <td>1888</td>\n",
       "    </tr>\n",
       "    <tr>\n",
       "      <th>14033</th>\n",
       "      <td>Krakow</td>\n",
       "      <td>['Polish', 'European']</td>\n",
       "      <td>915.0</td>\n",
       "      <td>4.5</td>\n",
       "      <td>$</td>\n",
       "      <td>8.0</td>\n",
       "      <td>[[\"Like my mom's\", 'Lunch'], ['05/29/2016', '1...</td>\n",
       "      <td>/Restaurant_Review-g274772-d7627086-Reviews-Ba...</td>\n",
       "      <td>d7627086</td>\n",
       "      <td>0.0</td>\n",
       "      <td>0</td>\n",
       "      <td>779</td>\n",
       "      <td>779</td>\n",
       "    </tr>\n",
       "    <tr>\n",
       "      <th>5440</th>\n",
       "      <td>Milan</td>\n",
       "      <td>NaN</td>\n",
       "      <td>3417.0</td>\n",
       "      <td>5.0</td>\n",
       "      <td>NaN</td>\n",
       "      <td>2.0</td>\n",
       "      <td>[[], []]</td>\n",
       "      <td>/Restaurant_Review-g187849-d13296811-Reviews-G...</td>\n",
       "      <td>d13296811</td>\n",
       "      <td>1.0</td>\n",
       "      <td>0</td>\n",
       "      <td>1399</td>\n",
       "      <td>1399</td>\n",
       "    </tr>\n",
       "    <tr>\n",
       "      <th>14369</th>\n",
       "      <td>Paris</td>\n",
       "      <td>['French']</td>\n",
       "      <td>9251.0</td>\n",
       "      <td>4.5</td>\n",
       "      <td>NaN</td>\n",
       "      <td>4.0</td>\n",
       "      <td>[[], []]</td>\n",
       "      <td>/Restaurant_Review-g187147-d4007146-Reviews-De...</td>\n",
       "      <td>d4007146</td>\n",
       "      <td>0.0</td>\n",
       "      <td>1</td>\n",
       "      <td>2206</td>\n",
       "      <td>2206</td>\n",
       "    </tr>\n",
       "  </tbody>\n",
       "</table>\n",
       "</div>"
      ],
      "text/plain": [
       "         City                                      Cuisine_Style  Ranking  \\\n",
       "31356  London  ['Italian', 'Pizza', 'Vegetarian Friendly', 'V...    894.0   \n",
       "35668  Vienna  ['Cafe', 'European', 'Vegetarian Friendly', 'V...    296.0   \n",
       "14033  Krakow                             ['Polish', 'European']    915.0   \n",
       "5440    Milan                                                NaN   3417.0   \n",
       "14369   Paris                                         ['French']   9251.0   \n",
       "\n",
       "       Rating Price_Range  Number_of_Reviews  \\\n",
       "31356     4.0    $$ - $$$             1207.0   \n",
       "35668     4.0    $$ - $$$              201.0   \n",
       "14033     4.5           $                8.0   \n",
       "5440      5.0         NaN                2.0   \n",
       "14369     4.5         NaN                4.0   \n",
       "\n",
       "                                                 Reviews  \\\n",
       "31356  [['Nice Italian food', '50-50'], ['12/06/2017'...   \n",
       "35668  [['Top notch Eggs Benedict', 'Breakfast favori...   \n",
       "14033  [[\"Like my mom's\", 'Lunch'], ['05/29/2016', '1...   \n",
       "5440                                            [[], []]   \n",
       "14369                                           [[], []]   \n",
       "\n",
       "                                                  URL_TA      ID_TA  \\\n",
       "31356  /Restaurant_Review-g186338-d1018964-Reviews-Zi...   d1018964   \n",
       "35668  /Restaurant_Review-g190454-d7389778-Reviews-Jo...   d7389778   \n",
       "14033  /Restaurant_Review-g274772-d7627086-Reviews-Ba...   d7627086   \n",
       "5440   /Restaurant_Review-g187849-d13296811-Reviews-G...  d13296811   \n",
       "14369  /Restaurant_Review-g187147-d4007146-Reviews-De...   d4007146   \n",
       "\n",
       "       NAN_Number_of_Reviews  Capital_City  Сity_population  Rest_num  \n",
       "31356                    0.0             1             8908      8908  \n",
       "35668                    0.0             1             1888      1888  \n",
       "14033                    0.0             0              779       779  \n",
       "5440                     1.0             0             1399      1399  \n",
       "14369                    0.0             1             2206      2206  "
      ]
     },
     "execution_count": 26,
     "metadata": {},
     "output_type": "execute_result"
    }
   ],
   "source": [
    "df.sample(5)"
   ]
  },
  {
   "cell_type": "code",
   "execution_count": 27,
   "metadata": {},
   "outputs": [
    {
     "data": {
      "text/plain": [
       "<matplotlib.axes._subplots.AxesSubplot at 0x7fdd29af1ac0>"
      ]
     },
     "execution_count": 27,
     "metadata": {},
     "output_type": "execute_result"
    },
    {
     "data": {
      "image/png": "[encoded data removed]",
      "text/plain": [
       "<Figure size 432x288 with 1 Axes>"
      ]
     },
     "metadata": {
      "needs_background": "light"
     },
     "output_type": "display_data"
    }
   ],
   "source": [
    "# посмотрим на влияние количества ресторанов в городе на рейтинг ресторана\n",
    "ct = pd.crosstab([df.Rest_num], df['Rating'])\n",
    "ct.plot(kind='bar')"
   ]
  },
  {
   "cell_type": "code",
   "execution_count": 28,
   "metadata": {},
   "outputs": [
    {
     "data": {
      "text/plain": [
       "<matplotlib.axes._subplots.AxesSubplot at 0x7fdd2c6c91f0>"
      ]
     },
     "execution_count": 28,
     "metadata": {},
     "output_type": "execute_result"
    },
    {
     "data": {
      "image/png": "[encoded data removed]",
      "text/plain": [
       "<Figure size 432x288 with 1 Axes>"
      ]
     },
     "metadata": {
      "needs_background": "light"
     },
     "output_type": "display_data"
    }
   ],
   "source": [
    "# посмотрим на влияние количества ресторанов в городе на рейтинг ресторана\n",
    "ct = pd.crosstab([df.Capital_City], df['Rating'])\n",
    "ct.plot(kind='bar')"
   ]
  },
  {
   "cell_type": "markdown",
   "metadata": {},
   "source": [
    "Вывод: категориальный признак без пропусков, добавили новые признаки: dummies на каждый город(написание Порту не изменяли), 'Capital_City', определяющий является ли город столицей или нет, 'Population' с населением города, 'Rest_num' с кол-вом ресторанов в городах.\n",
    "Видно, что количество ресторанов влияет на рейтинг: в городах, где много ресторанов отзывы выше среднего, а в городах, где ресторанов меньше оценка более критичная. Критерий \"столица/нет\" влияет на рейтинг, в столицах рейтинг выше. Возможно это связано с тем, что люди в столицах чаще ходят в ресторан и делятся своей оценкой."
   ]
  },
  {
   "cell_type": "markdown",
   "metadata": {},
   "source": [
    "3. Cuisine_Style"
   ]
  },
  {
   "cell_type": "code",
   "execution_count": 29,
   "metadata": {},
   "outputs": [],
   "source": [
    "# обработаем столбец 'Cuisine_Style'\n",
    "def str_to_list(string):\n",
    "    if pd.isnull(string):\n",
    "        return []\n",
    "    else:\n",
    "        string = string.replace('\"', '')\n",
    "        string = string.replace('[', '')\n",
    "        string = string.replace(']', '')\n",
    "        string = string.replace(\"'\", '')\n",
    "        return string.split(', ')"
   ]
  },
  {
   "cell_type": "code",
   "execution_count": 30,
   "metadata": {},
   "outputs": [],
   "source": [
    "# преобразуем кухни в списки\n",
    "df['Cuisine_Style_list'] = df['Cuisine_Style'].apply(str_to_list)"
   ]
  },
  {
   "cell_type": "code",
   "execution_count": 31,
   "metadata": {},
   "outputs": [
    {
     "data": {
      "text/plain": [
       "125"
      ]
     },
     "execution_count": 31,
     "metadata": {},
     "output_type": "execute_result"
    }
   ],
   "source": [
    "# посчитаем количество видов кухонь \n",
    "cuisines = set()\n",
    "for cuisine_list in df['Cuisine_Style_list']:\n",
    "    for cuisine in cuisine_list:\n",
    "        cuisines.add(cuisine)\n",
    "\n",
    "len(cuisines)"
   ]
  },
  {
   "cell_type": "code",
   "execution_count": 32,
   "metadata": {},
   "outputs": [
    {
     "data": {
      "text/plain": [
       "Vegetarian Friendly    11189\n",
       "European               10060\n",
       "Mediterranean           6277\n",
       "Italian                 5964\n",
       "Vegan Options           4486\n",
       "                       ...  \n",
       "Burmese                    1\n",
       "Latvian                    1\n",
       "Xinjiang                   1\n",
       "Salvadoran                 1\n",
       "Yunnan                     1\n",
       "Length: 125, dtype: int64"
      ]
     },
     "execution_count": 32,
     "metadata": {},
     "output_type": "execute_result"
    }
   ],
   "source": [
    "# ищем самый часто встречающийся вид кухни\n",
    "cuisine_count = dict.fromkeys(cuisines, 0)\n",
    "for cuisine in cuisines:\n",
    "    for cuisine_list in df['Cuisine_Style_list']:\n",
    "        if cuisine in cuisine_list:\n",
    "            cuisine_count[cuisine] += 1\n",
    "\n",
    "cuisine_count = pd.Series(cuisine_count)\n",
    "cuisine_count.sort_values(ascending=False)"
   ]
  },
  {
   "cell_type": "code",
   "execution_count": 33,
   "metadata": {},
   "outputs": [],
   "source": [
    "# сохраним информацию о пропусках\n",
    "df['NAN_Cuisine Style'] = pd.isna(df['Cuisine_Style']).astype('float64') \n",
    "\n",
    "# заполним пропуски значением 'Other'\n",
    "df['Cuisine_Style'] = df['Cuisine_Style'].fillna(\"['Other']\")"
   ]
  },
  {
   "cell_type": "code",
   "execution_count": 34,
   "metadata": {},
   "outputs": [],
   "source": [
    "# добавим признак количество кухонь в ресторане\n",
    "df['Count_Cuisine_Style'] = df['Cuisine_Style'].apply(\n",
    "    lambda x: len(x)).astype('float64')"
   ]
  },
  {
   "cell_type": "code",
   "execution_count": 35,
   "metadata": {},
   "outputs": [
    {
     "name": "stdout",
     "output_type": "stream",
     "text": [
      "<class 'pandas.core.frame.DataFrame'>\n",
      "RangeIndex: 40000 entries, 0 to 39999\n",
      "Data columns (total 16 columns):\n",
      " #   Column                 Non-Null Count  Dtype  \n",
      "---  ------                 --------------  -----  \n",
      " 0   City                   40000 non-null  object \n",
      " 1   Cuisine_Style          40000 non-null  object \n",
      " 2   Ranking                40000 non-null  float64\n",
      " 3   Rating                 40000 non-null  float64\n",
      " 4   Price_Range            26114 non-null  object \n",
      " 5   Number_of_Reviews      40000 non-null  float64\n",
      " 6   Reviews                40000 non-null  object \n",
      " 7   URL_TA                 40000 non-null  object \n",
      " 8   ID_TA                  40000 non-null  object \n",
      " 9   NAN_Number_of_Reviews  40000 non-null  float64\n",
      " 10  Capital_City           40000 non-null  int64  \n",
      " 11  Сity_population        40000 non-null  int64  \n",
      " 12  Rest_num               40000 non-null  int64  \n",
      " 13  Cuisine_Style_list     40000 non-null  object \n",
      " 14  NAN_Cuisine Style      40000 non-null  float64\n",
      " 15  Count_Cuisine_Style    40000 non-null  float64\n",
      "dtypes: float64(6), int64(3), object(7)\n",
      "memory usage: 4.9+ MB\n"
     ]
    }
   ],
   "source": [
    "df.info()"
   ]
  },
  {
   "cell_type": "markdown",
   "metadata": {},
   "source": [
    "Вывод:  было много пропусков, преобразовали данные в список, создали новый признак 'NAN_Cuisine_Style', добавлен критерий количества типов кухонь в ресторане 'Count_Cuisine_Style'. Всего 125 кухонь, а самая популярная кухня Vegetarian Friendly."
   ]
  },
  {
   "cell_type": "markdown",
   "metadata": {},
   "source": [
    "4. Price_Range"
   ]
  },
  {
   "cell_type": "code",
   "execution_count": 36,
   "metadata": {},
   "outputs": [
    {
     "data": {
      "text/plain": [
       "$$ - $$$    18412\n",
       "NaN         13886\n",
       "$            6279\n",
       "$$$$         1423\n",
       "Name: Price_Range, dtype: int64"
      ]
     },
     "execution_count": 36,
     "metadata": {},
     "output_type": "execute_result"
    }
   ],
   "source": [
    "df['Price_Range'].value_counts(dropna = False)"
   ]
  },
  {
   "cell_type": "code",
   "execution_count": 37,
   "metadata": {},
   "outputs": [],
   "source": [
    "# сохраним информацию о пропусках\n",
    "df['NaN_Price'] = pd.isna(df['Price_Range']).astype('float64')"
   ]
  },
  {
   "cell_type": "code",
   "execution_count": 38,
   "metadata": {},
   "outputs": [
    {
     "data": {
      "text/html": [
       "<div>\n",
       "<style scoped>\n",
       "    .dataframe tbody tr th:only-of-type {\n",
       "        vertical-align: middle;\n",
       "    }\n",
       "\n",
       "    .dataframe tbody tr th {\n",
       "        vertical-align: top;\n",
       "    }\n",
       "\n",
       "    .dataframe thead th {\n",
       "        text-align: right;\n",
       "    }\n",
       "</style>\n",
       "<table border=\"1\" class=\"dataframe\">\n",
       "  <thead>\n",
       "    <tr style=\"text-align: right;\">\n",
       "      <th></th>\n",
       "      <th>City</th>\n",
       "      <th>Cuisine_Style</th>\n",
       "      <th>Ranking</th>\n",
       "      <th>Rating</th>\n",
       "      <th>Price_Range</th>\n",
       "      <th>Number_of_Reviews</th>\n",
       "      <th>Reviews</th>\n",
       "      <th>URL_TA</th>\n",
       "      <th>ID_TA</th>\n",
       "      <th>NAN_Number_of_Reviews</th>\n",
       "      <th>Capital_City</th>\n",
       "      <th>Сity_population</th>\n",
       "      <th>Rest_num</th>\n",
       "      <th>Cuisine_Style_list</th>\n",
       "      <th>NAN_Cuisine Style</th>\n",
       "      <th>Count_Cuisine_Style</th>\n",
       "      <th>NaN_Price</th>\n",
       "    </tr>\n",
       "  </thead>\n",
       "  <tbody>\n",
       "    <tr>\n",
       "      <th>0</th>\n",
       "      <td>Paris</td>\n",
       "      <td>['European', 'French', 'International']</td>\n",
       "      <td>5570.0</td>\n",
       "      <td>3.5</td>\n",
       "      <td>1</td>\n",
       "      <td>194.0</td>\n",
       "      <td>[['Good food at your doorstep', 'A good hotel ...</td>\n",
       "      <td>/Restaurant_Review-g187147-d1912643-Reviews-R_...</td>\n",
       "      <td>d1912643</td>\n",
       "      <td>0.0</td>\n",
       "      <td>1</td>\n",
       "      <td>2206</td>\n",
       "      <td>2206</td>\n",
       "      <td>[European, French, International]</td>\n",
       "      <td>0.0</td>\n",
       "      <td>39.0</td>\n",
       "      <td>0.0</td>\n",
       "    </tr>\n",
       "    <tr>\n",
       "      <th>1</th>\n",
       "      <td>Stockholm</td>\n",
       "      <td>['Other']</td>\n",
       "      <td>1537.0</td>\n",
       "      <td>4.0</td>\n",
       "      <td>1</td>\n",
       "      <td>10.0</td>\n",
       "      <td>[['Unique cuisine', 'Delicious Nepalese food']...</td>\n",
       "      <td>/Restaurant_Review-g189852-d7992032-Reviews-Bu...</td>\n",
       "      <td>d7992032</td>\n",
       "      <td>0.0</td>\n",
       "      <td>1</td>\n",
       "      <td>975</td>\n",
       "      <td>975</td>\n",
       "      <td>[]</td>\n",
       "      <td>1.0</td>\n",
       "      <td>9.0</td>\n",
       "      <td>1.0</td>\n",
       "    </tr>\n",
       "    <tr>\n",
       "      <th>2</th>\n",
       "      <td>London</td>\n",
       "      <td>['Japanese', 'Sushi', 'Asian', 'Grill', 'Veget...</td>\n",
       "      <td>353.0</td>\n",
       "      <td>4.5</td>\n",
       "      <td>2</td>\n",
       "      <td>688.0</td>\n",
       "      <td>[['Catch up with friends', 'Not exceptional'],...</td>\n",
       "      <td>/Restaurant_Review-g186338-d8632781-Reviews-RO...</td>\n",
       "      <td>d8632781</td>\n",
       "      <td>0.0</td>\n",
       "      <td>1</td>\n",
       "      <td>8908</td>\n",
       "      <td>8908</td>\n",
       "      <td>[Japanese, Sushi, Asian, Grill, Vegetarian Fri...</td>\n",
       "      <td>0.0</td>\n",
       "      <td>102.0</td>\n",
       "      <td>0.0</td>\n",
       "    </tr>\n",
       "    <tr>\n",
       "      <th>3</th>\n",
       "      <td>Berlin</td>\n",
       "      <td>['Other']</td>\n",
       "      <td>3458.0</td>\n",
       "      <td>5.0</td>\n",
       "      <td>1</td>\n",
       "      <td>3.0</td>\n",
       "      <td>[[], []]</td>\n",
       "      <td>/Restaurant_Review-g187323-d1358776-Reviews-Es...</td>\n",
       "      <td>d1358776</td>\n",
       "      <td>0.0</td>\n",
       "      <td>1</td>\n",
       "      <td>3769</td>\n",
       "      <td>3769</td>\n",
       "      <td>[]</td>\n",
       "      <td>1.0</td>\n",
       "      <td>9.0</td>\n",
       "      <td>1.0</td>\n",
       "    </tr>\n",
       "    <tr>\n",
       "      <th>4</th>\n",
       "      <td>Munich</td>\n",
       "      <td>['German', 'Central European', 'Vegetarian Fri...</td>\n",
       "      <td>621.0</td>\n",
       "      <td>4.0</td>\n",
       "      <td>1</td>\n",
       "      <td>84.0</td>\n",
       "      <td>[['Best place to try a Bavarian food', 'Nice b...</td>\n",
       "      <td>/Restaurant_Review-g187309-d6864963-Reviews-Au...</td>\n",
       "      <td>d6864963</td>\n",
       "      <td>0.0</td>\n",
       "      <td>0</td>\n",
       "      <td>1484</td>\n",
       "      <td>1484</td>\n",
       "      <td>[German, Central European, Vegetarian Friendly]</td>\n",
       "      <td>0.0</td>\n",
       "      <td>53.0</td>\n",
       "      <td>0.0</td>\n",
       "    </tr>\n",
       "  </tbody>\n",
       "</table>\n",
       "</div>"
      ],
      "text/plain": [
       "        City                                      Cuisine_Style  Ranking  \\\n",
       "0      Paris            ['European', 'French', 'International']   5570.0   \n",
       "1  Stockholm                                          ['Other']   1537.0   \n",
       "2     London  ['Japanese', 'Sushi', 'Asian', 'Grill', 'Veget...    353.0   \n",
       "3     Berlin                                          ['Other']   3458.0   \n",
       "4     Munich  ['German', 'Central European', 'Vegetarian Fri...    621.0   \n",
       "\n",
       "   Rating  Price_Range  Number_of_Reviews  \\\n",
       "0     3.5            1              194.0   \n",
       "1     4.0            1               10.0   \n",
       "2     4.5            2              688.0   \n",
       "3     5.0            1                3.0   \n",
       "4     4.0            1               84.0   \n",
       "\n",
       "                                             Reviews  \\\n",
       "0  [['Good food at your doorstep', 'A good hotel ...   \n",
       "1  [['Unique cuisine', 'Delicious Nepalese food']...   \n",
       "2  [['Catch up with friends', 'Not exceptional'],...   \n",
       "3                                           [[], []]   \n",
       "4  [['Best place to try a Bavarian food', 'Nice b...   \n",
       "\n",
       "                                              URL_TA     ID_TA  \\\n",
       "0  /Restaurant_Review-g187147-d1912643-Reviews-R_...  d1912643   \n",
       "1  /Restaurant_Review-g189852-d7992032-Reviews-Bu...  d7992032   \n",
       "2  /Restaurant_Review-g186338-d8632781-Reviews-RO...  d8632781   \n",
       "3  /Restaurant_Review-g187323-d1358776-Reviews-Es...  d1358776   \n",
       "4  /Restaurant_Review-g187309-d6864963-Reviews-Au...  d6864963   \n",
       "\n",
       "   NAN_Number_of_Reviews  Capital_City  Сity_population  Rest_num  \\\n",
       "0                    0.0             1             2206      2206   \n",
       "1                    0.0             1              975       975   \n",
       "2                    0.0             1             8908      8908   \n",
       "3                    0.0             1             3769      3769   \n",
       "4                    0.0             0             1484      1484   \n",
       "\n",
       "                                  Cuisine_Style_list  NAN_Cuisine Style  \\\n",
       "0                  [European, French, International]                0.0   \n",
       "1                                                 []                1.0   \n",
       "2  [Japanese, Sushi, Asian, Grill, Vegetarian Fri...                0.0   \n",
       "3                                                 []                1.0   \n",
       "4    [German, Central European, Vegetarian Friendly]                0.0   \n",
       "\n",
       "   Count_Cuisine_Style  NaN_Price  \n",
       "0                 39.0        0.0  \n",
       "1                  9.0        1.0  \n",
       "2                102.0        0.0  \n",
       "3                  9.0        1.0  \n",
       "4                 53.0        0.0  "
      ]
     },
     "execution_count": 38,
     "metadata": {},
     "output_type": "execute_result"
    }
   ],
   "source": [
    "# присвоим значения каждой ценовой категории\n",
    "price_to_num = {'$': 0, '$$ - $$$': 1, '$$$$': 2}\n",
    "df['Price_Range'] = df['Price_Range'].fillna(1)\n",
    "df['Price_Range'] = df['Price_Range'].replace(to_replace=price_to_num)\n",
    "df.head()"
   ]
  },
  {
   "cell_type": "code",
   "execution_count": 39,
   "metadata": {},
   "outputs": [
    {
     "data": {
      "text/plain": [
       "1    32298\n",
       "0     6279\n",
       "2     1423\n",
       "Name: Price_Range, dtype: int64"
      ]
     },
     "execution_count": 39,
     "metadata": {},
     "output_type": "execute_result"
    }
   ],
   "source": [
    "df['Price_Range'].value_counts()"
   ]
  },
  {
   "cell_type": "markdown",
   "metadata": {},
   "source": [
    "Вывод: было много пропусков, информацию о них сохранили в 'NaN_Price Range'. Для заполнения пропусков создали словарь: низкая цена - 0, средняя цена - 1 , высокая цена - 2(изначально пробовали значения 1,2,3). Пропуски заполнили наиболее часто встречающимся значением."
   ]
  },
  {
   "cell_type": "markdown",
   "metadata": {},
   "source": [
    "5. Reviews"
   ]
  },
  {
   "cell_type": "code",
   "execution_count": 40,
   "metadata": {
    "scrolled": true
   },
   "outputs": [
    {
     "data": {
      "text/plain": [
       "[[], []]                                                                                                      6471\n",
       "[['The real codido madrileño'], ['03/31/2017']]                                                                  2\n",
       "[['Absolutely authentic and delicious!', 'Wonderful discovery'], ['09/30/2017', '08/04/2016']]                   2\n",
       "[['Great food, service and atmosphere', 'Decor and food'], ['11/06/2017', '10/22/2017']]                         2\n",
       "[['Thursday snack', 'Good value for money & good food!'], ['03/13/2017', '06/20/2016']]                          2\n",
       "                                                                                                              ... \n",
       "[['Healthy lunch', 'Great organic lunch!'], ['10/07/2017', '01/16/2017']]                                        1\n",
       "[['Quiet, non smoking, central, love it', 'Good ambiance but limited menu'], ['05/20/2012', '04/12/2012']]       1\n",
       "[['Popular Real Ale Pub', 'Great pub'], ['12/17/2017', '12/09/2017']]                                            1\n",
       "[['good takeaway', 'The go-to place after a night out or on a...'], ['05/18/2017', '10/16/2017']]                1\n",
       "[['Very good potato, not so fast food', 'Potato lovers'], ['11/17/2017', '08/06/2017']]                          1\n",
       "Name: Reviews, Length: 33516, dtype: int64"
      ]
     },
     "execution_count": 40,
     "metadata": {},
     "output_type": "execute_result"
    }
   ],
   "source": [
    "df[\"Reviews\"].value_counts()"
   ]
  },
  {
   "cell_type": "code",
   "execution_count": 41,
   "metadata": {},
   "outputs": [],
   "source": [
    "# обработка для Reviews\n",
    "def review_to_list(string):\n",
    "    if string == '[[], []]':\n",
    "        return []\n",
    "    else:\n",
    "        string = string.replace(']]', '')\n",
    "        string = string.replace(\"'\", '')\n",
    "        string = string.split('], [')[1]\n",
    "        string = string.split(', ')\n",
    "        return string"
   ]
  },
  {
   "cell_type": "code",
   "execution_count": 42,
   "metadata": {},
   "outputs": [],
   "source": [
    "df[\"NAN_Reviews\"] = pd.isna(df[\"Reviews\"]).astype(\"uint8\")\n",
    "df[\"Reviews\"].fillna(\"[[], []]\", inplace=True)"
   ]
  },
  {
   "cell_type": "code",
   "execution_count": 43,
   "metadata": {},
   "outputs": [],
   "source": [
    "df['Reviews_date_temp'] = df['Reviews'].apply(review_to_list)"
   ]
  },
  {
   "cell_type": "code",
   "execution_count": 44,
   "metadata": {},
   "outputs": [],
   "source": [
    "# найдем дату в отзывах и создадим новые критерии\n",
    "df['date_of_Review'] = df['Reviews'].str.findall('\\d+/\\d+/\\d+')\n",
    "df['len_date'] = df['date_of_Review'].apply(lambda x: len(x))"
   ]
  },
  {
   "cell_type": "code",
   "execution_count": 45,
   "metadata": {},
   "outputs": [
    {
     "data": {
      "text/plain": [
       "0        2\n",
       "1        2\n",
       "2        2\n",
       "3        0\n",
       "4        2\n",
       "        ..\n",
       "39995    2\n",
       "39996    2\n",
       "39997    2\n",
       "39998    2\n",
       "39999    2\n",
       "Name: len_date, Length: 40000, dtype: int64"
      ]
     },
     "execution_count": 45,
     "metadata": {},
     "output_type": "execute_result"
    }
   ],
   "source": [
    "df['len_date']"
   ]
  },
  {
   "cell_type": "code",
   "execution_count": 46,
   "metadata": {},
   "outputs": [],
   "source": [
    "# определим дату первого отзыва\n",
    "df['Reviews_date_first'] = df['Reviews_date_temp'].apply(\n",
    "    lambda x: None if len(x) == 0\n",
    "    else pd.to_datetime(x[0], format='%m/%d/%Y') if len(x) == 1\n",
    "    else pd.to_datetime(x[0], format='%m/%d/%Y') if pd.to_datetime(x[0], format='%m/%d/%Y') < pd.to_datetime(x[1], format='%m/%d/%Y')\n",
    "    else pd.to_datetime(x[1], format='%m/%d/%Y'))\n",
    "\n",
    "# определим дату последнего отзыва\n",
    "df['Reviews_date_last'] = df['Reviews_date_temp'].apply(\n",
    "    lambda x: None if len(x) == 0\n",
    "    else pd.to_datetime(x[0], format='%m/%d/%Y') if len(x) == 1\n",
    "    else pd.to_datetime(x[0], format='%m/%d/%Y') if pd.to_datetime(x[0], format='%m/%d/%Y') > pd.to_datetime(x[1], format='%m/%d/%Y')\n",
    "    else pd.to_datetime(x[1], format='%m/%d/%Y'))"
   ]
  },
  {
   "cell_type": "code",
   "execution_count": 47,
   "metadata": {},
   "outputs": [],
   "source": [
    "min_date = df['Reviews_date_first'].mean()\n",
    "max_date = df['Reviews_date_last'].mean()"
   ]
  },
  {
   "cell_type": "code",
   "execution_count": 48,
   "metadata": {},
   "outputs": [],
   "source": [
    "# заполним пропуски в датах самой ранней датой\n",
    "df['Reviews_date_first'].fillna(min_date, inplace=True)\n",
    "\n",
    "# заполним пустые значения последней даты значением самой ранней даты\n",
    "df.loc[pd.isnull(df['Reviews_date_last']),\n",
    "       'Reviews_date_last'] = df['Reviews_date_first']"
   ]
  },
  {
   "cell_type": "code",
   "execution_count": 49,
   "metadata": {},
   "outputs": [],
   "source": [
    "# вводим параметр - кол-во дней между отзывами\n",
    "df['days_between_Reviews'] = (df['Reviews_date_last'] - df['Reviews_date_first']).dt.days"
   ]
  },
  {
   "cell_type": "code",
   "execution_count": 50,
   "metadata": {},
   "outputs": [
    {
     "data": {
      "text/html": [
       "<div>\n",
       "<style scoped>\n",
       "    .dataframe tbody tr th:only-of-type {\n",
       "        vertical-align: middle;\n",
       "    }\n",
       "\n",
       "    .dataframe tbody tr th {\n",
       "        vertical-align: top;\n",
       "    }\n",
       "\n",
       "    .dataframe thead th {\n",
       "        text-align: right;\n",
       "    }\n",
       "</style>\n",
       "<table border=\"1\" class=\"dataframe\">\n",
       "  <thead>\n",
       "    <tr style=\"text-align: right;\">\n",
       "      <th></th>\n",
       "      <th>City</th>\n",
       "      <th>Cuisine_Style</th>\n",
       "      <th>Ranking</th>\n",
       "      <th>Rating</th>\n",
       "      <th>Price_Range</th>\n",
       "      <th>Number_of_Reviews</th>\n",
       "      <th>Reviews</th>\n",
       "      <th>URL_TA</th>\n",
       "      <th>ID_TA</th>\n",
       "      <th>NAN_Number_of_Reviews</th>\n",
       "      <th>...</th>\n",
       "      <th>NAN_Cuisine Style</th>\n",
       "      <th>Count_Cuisine_Style</th>\n",
       "      <th>NaN_Price</th>\n",
       "      <th>NAN_Reviews</th>\n",
       "      <th>Reviews_date_temp</th>\n",
       "      <th>date_of_Review</th>\n",
       "      <th>len_date</th>\n",
       "      <th>Reviews_date_first</th>\n",
       "      <th>Reviews_date_last</th>\n",
       "      <th>days_between_Reviews</th>\n",
       "    </tr>\n",
       "  </thead>\n",
       "  <tbody>\n",
       "    <tr>\n",
       "      <th>36966</th>\n",
       "      <td>Berlin</td>\n",
       "      <td>['Fast Food', 'Middle Eastern']</td>\n",
       "      <td>4589.0</td>\n",
       "      <td>4.5</td>\n",
       "      <td>1</td>\n",
       "      <td>4.0</td>\n",
       "      <td>[['Delicious food'], ['11/06/2016']]</td>\n",
       "      <td>/Restaurant_Review-g187323-d3842063-Reviews-Pr...</td>\n",
       "      <td>d3842063</td>\n",
       "      <td>0.0</td>\n",
       "      <td>...</td>\n",
       "      <td>0.0</td>\n",
       "      <td>31.0</td>\n",
       "      <td>1.0</td>\n",
       "      <td>0</td>\n",
       "      <td>[11/06/2016]</td>\n",
       "      <td>[11/06/2016]</td>\n",
       "      <td>1</td>\n",
       "      <td>2016-11-06 00:00:00.000000000</td>\n",
       "      <td>2016-11-06 00:00:00.000000000</td>\n",
       "      <td>0</td>\n",
       "    </tr>\n",
       "    <tr>\n",
       "      <th>36861</th>\n",
       "      <td>Berlin</td>\n",
       "      <td>['International']</td>\n",
       "      <td>3079.0</td>\n",
       "      <td>4.5</td>\n",
       "      <td>1</td>\n",
       "      <td>5.0</td>\n",
       "      <td>[['How come I didn’t go sooner?', 'Small but v...</td>\n",
       "      <td>/Restaurant_Review-g187323-d10218950-Reviews-M...</td>\n",
       "      <td>d10218950</td>\n",
       "      <td>0.0</td>\n",
       "      <td>...</td>\n",
       "      <td>0.0</td>\n",
       "      <td>17.0</td>\n",
       "      <td>0.0</td>\n",
       "      <td>0</td>\n",
       "      <td>[10/31/2017, 06/05/2017]</td>\n",
       "      <td>[10/31/2017, 06/05/2017]</td>\n",
       "      <td>2</td>\n",
       "      <td>2017-06-05 00:00:00.000000000</td>\n",
       "      <td>2017-10-31 00:00:00.000000000</td>\n",
       "      <td>148</td>\n",
       "    </tr>\n",
       "    <tr>\n",
       "      <th>25664</th>\n",
       "      <td>Madrid</td>\n",
       "      <td>['Other']</td>\n",
       "      <td>5863.0</td>\n",
       "      <td>4.0</td>\n",
       "      <td>1</td>\n",
       "      <td>2.0</td>\n",
       "      <td>[[], []]</td>\n",
       "      <td>/Restaurant_Review-g187514-d8097734-Reviews-Ru...</td>\n",
       "      <td>d8097734</td>\n",
       "      <td>0.0</td>\n",
       "      <td>...</td>\n",
       "      <td>1.0</td>\n",
       "      <td>9.0</td>\n",
       "      <td>1.0</td>\n",
       "      <td>0</td>\n",
       "      <td>[]</td>\n",
       "      <td>[]</td>\n",
       "      <td>0</td>\n",
       "      <td>2017-01-10 04:16:05.898190336</td>\n",
       "      <td>2017-01-10 04:16:05.898190336</td>\n",
       "      <td>0</td>\n",
       "    </tr>\n",
       "    <tr>\n",
       "      <th>10249</th>\n",
       "      <td>Madrid</td>\n",
       "      <td>['Other']</td>\n",
       "      <td>4208.0</td>\n",
       "      <td>5.0</td>\n",
       "      <td>1</td>\n",
       "      <td>3.0</td>\n",
       "      <td>[[], []]</td>\n",
       "      <td>/Restaurant_Review-g187514-d5870127-Reviews-Me...</td>\n",
       "      <td>d5870127</td>\n",
       "      <td>0.0</td>\n",
       "      <td>...</td>\n",
       "      <td>1.0</td>\n",
       "      <td>9.0</td>\n",
       "      <td>1.0</td>\n",
       "      <td>0</td>\n",
       "      <td>[]</td>\n",
       "      <td>[]</td>\n",
       "      <td>0</td>\n",
       "      <td>2017-01-10 04:16:05.898190336</td>\n",
       "      <td>2017-01-10 04:16:05.898190336</td>\n",
       "      <td>0</td>\n",
       "    </tr>\n",
       "    <tr>\n",
       "      <th>7444</th>\n",
       "      <td>Brussels</td>\n",
       "      <td>['Other']</td>\n",
       "      <td>1935.0</td>\n",
       "      <td>4.5</td>\n",
       "      <td>1</td>\n",
       "      <td>13.0</td>\n",
       "      <td>[['A taste of the Carribean in the heart of B....</td>\n",
       "      <td>/Restaurant_Review-g188644-d6360325-Reviews-Ca...</td>\n",
       "      <td>d6360325</td>\n",
       "      <td>0.0</td>\n",
       "      <td>...</td>\n",
       "      <td>1.0</td>\n",
       "      <td>9.0</td>\n",
       "      <td>1.0</td>\n",
       "      <td>0</td>\n",
       "      <td>[06/18/2015, 04/13/2015]</td>\n",
       "      <td>[06/18/2015, 04/13/2015]</td>\n",
       "      <td>2</td>\n",
       "      <td>2015-04-13 00:00:00.000000000</td>\n",
       "      <td>2015-06-18 00:00:00.000000000</td>\n",
       "      <td>66</td>\n",
       "    </tr>\n",
       "  </tbody>\n",
       "</table>\n",
       "<p>5 rows × 24 columns</p>\n",
       "</div>"
      ],
      "text/plain": [
       "           City                    Cuisine_Style  Ranking  Rating  \\\n",
       "36966    Berlin  ['Fast Food', 'Middle Eastern']   4589.0     4.5   \n",
       "36861    Berlin                ['International']   3079.0     4.5   \n",
       "25664    Madrid                        ['Other']   5863.0     4.0   \n",
       "10249    Madrid                        ['Other']   4208.0     5.0   \n",
       "7444   Brussels                        ['Other']   1935.0     4.5   \n",
       "\n",
       "       Price_Range  Number_of_Reviews  \\\n",
       "36966            1                4.0   \n",
       "36861            1                5.0   \n",
       "25664            1                2.0   \n",
       "10249            1                3.0   \n",
       "7444             1               13.0   \n",
       "\n",
       "                                                 Reviews  \\\n",
       "36966               [['Delicious food'], ['11/06/2016']]   \n",
       "36861  [['How come I didn’t go sooner?', 'Small but v...   \n",
       "25664                                           [[], []]   \n",
       "10249                                           [[], []]   \n",
       "7444   [['A taste of the Carribean in the heart of B....   \n",
       "\n",
       "                                                  URL_TA      ID_TA  \\\n",
       "36966  /Restaurant_Review-g187323-d3842063-Reviews-Pr...   d3842063   \n",
       "36861  /Restaurant_Review-g187323-d10218950-Reviews-M...  d10218950   \n",
       "25664  /Restaurant_Review-g187514-d8097734-Reviews-Ru...   d8097734   \n",
       "10249  /Restaurant_Review-g187514-d5870127-Reviews-Me...   d5870127   \n",
       "7444   /Restaurant_Review-g188644-d6360325-Reviews-Ca...   d6360325   \n",
       "\n",
       "       NAN_Number_of_Reviews  ...  NAN_Cuisine Style  Count_Cuisine_Style  \\\n",
       "36966                    0.0  ...                0.0                 31.0   \n",
       "36861                    0.0  ...                0.0                 17.0   \n",
       "25664                    0.0  ...                1.0                  9.0   \n",
       "10249                    0.0  ...                1.0                  9.0   \n",
       "7444                     0.0  ...                1.0                  9.0   \n",
       "\n",
       "       NaN_Price NAN_Reviews         Reviews_date_temp  \\\n",
       "36966        1.0           0              [11/06/2016]   \n",
       "36861        0.0           0  [10/31/2017, 06/05/2017]   \n",
       "25664        1.0           0                        []   \n",
       "10249        1.0           0                        []   \n",
       "7444         1.0           0  [06/18/2015, 04/13/2015]   \n",
       "\n",
       "                 date_of_Review  len_date            Reviews_date_first  \\\n",
       "36966              [11/06/2016]         1 2016-11-06 00:00:00.000000000   \n",
       "36861  [10/31/2017, 06/05/2017]         2 2017-06-05 00:00:00.000000000   \n",
       "25664                        []         0 2017-01-10 04:16:05.898190336   \n",
       "10249                        []         0 2017-01-10 04:16:05.898190336   \n",
       "7444   [06/18/2015, 04/13/2015]         2 2015-04-13 00:00:00.000000000   \n",
       "\n",
       "                  Reviews_date_last days_between_Reviews  \n",
       "36966 2016-11-06 00:00:00.000000000                    0  \n",
       "36861 2017-10-31 00:00:00.000000000                  148  \n",
       "25664 2017-01-10 04:16:05.898190336                    0  \n",
       "10249 2017-01-10 04:16:05.898190336                    0  \n",
       "7444  2015-06-18 00:00:00.000000000                   66  \n",
       "\n",
       "[5 rows x 24 columns]"
      ]
     },
     "execution_count": 50,
     "metadata": {},
     "output_type": "execute_result"
    }
   ],
   "source": [
    "df.sample(5)"
   ]
  },
  {
   "cell_type": "code",
   "execution_count": 51,
   "metadata": {},
   "outputs": [],
   "source": [
    "# формируем списки слов:\n",
    "\n",
    "positive_words = ['good', 'very nice', 'most', 'great', 'nice', 'best', 'excellent',\n",
    "                  'delicious', 'lovely', 'ok', 'local', 'perfect', 'fast', 'fine',\n",
    "                  'authentic', 'amazing','delightful', 'outstanding',\n",
    "                  'tasty', 'friendly', 'beautiful', 'well', 'top', 'awesome', 'cozy',\n",
    "                  'fantastic', 'quick', 'perfect', 'generous', 'wonderful', 'favourite',\n",
    "                  'yummy','super', 'top quality', 'popular'\n",
    "                  'underrated', 'magic', 'highly reccomended', 'cool', 'traditional',\n",
    "                  'unique', 'heaven', 'pleasantly surprised']\n",
    "                  \n",
    "\n",
    "\n",
    "negative_words = ['poor','too busy', 'horrible', 'awful' 'worst', 'nasty', 'terrible',\n",
    "                  'disappointing','avoid','average', 'tourist trap','slow', \n",
    "                  'overpriced', 'unfriendly', 'rude', 'bad']\n",
    "                  "
   ]
  },
  {
   "cell_type": "code",
   "execution_count": 52,
   "metadata": {},
   "outputs": [],
   "source": [
    "# определим, есть ли у отзыва позитивный окрас \n",
    "df['Review_pos'] = df['Reviews'].apply(\n",
    "        lambda x: 1 if any([y in x.lower() for y in positive_words])  else 0)"
   ]
  },
  {
   "cell_type": "code",
   "execution_count": 53,
   "metadata": {},
   "outputs": [],
   "source": [
    "# определим, есть ли у отзыва негативный окрас \n",
    "df['Review_neg'] = df['Reviews'].apply(\n",
    "        lambda x: 1 if any([y in x.lower() for y in negative_words])  else 0)"
   ]
  },
  {
   "cell_type": "code",
   "execution_count": 54,
   "metadata": {},
   "outputs": [
    {
     "name": "stdout",
     "output_type": "stream",
     "text": [
      "<class 'pandas.core.frame.DataFrame'>\n",
      "RangeIndex: 40000 entries, 0 to 39999\n",
      "Data columns (total 26 columns):\n",
      " #   Column                 Non-Null Count  Dtype         \n",
      "---  ------                 --------------  -----         \n",
      " 0   City                   40000 non-null  object        \n",
      " 1   Cuisine_Style          40000 non-null  object        \n",
      " 2   Ranking                40000 non-null  float64       \n",
      " 3   Rating                 40000 non-null  float64       \n",
      " 4   Price_Range            40000 non-null  int64         \n",
      " 5   Number_of_Reviews      40000 non-null  float64       \n",
      " 6   Reviews                40000 non-null  object        \n",
      " 7   URL_TA                 40000 non-null  object        \n",
      " 8   ID_TA                  40000 non-null  object        \n",
      " 9   NAN_Number_of_Reviews  40000 non-null  float64       \n",
      " 10  Capital_City           40000 non-null  int64         \n",
      " 11  Сity_population        40000 non-null  int64         \n",
      " 12  Rest_num               40000 non-null  int64         \n",
      " 13  Cuisine_Style_list     40000 non-null  object        \n",
      " 14  NAN_Cuisine Style      40000 non-null  float64       \n",
      " 15  Count_Cuisine_Style    40000 non-null  float64       \n",
      " 16  NaN_Price              40000 non-null  float64       \n",
      " 17  NAN_Reviews            40000 non-null  uint8         \n",
      " 18  Reviews_date_temp      40000 non-null  object        \n",
      " 19  date_of_Review         40000 non-null  object        \n",
      " 20  len_date               40000 non-null  int64         \n",
      " 21  Reviews_date_first     40000 non-null  datetime64[ns]\n",
      " 22  Reviews_date_last      40000 non-null  datetime64[ns]\n",
      " 23  days_between_Reviews   40000 non-null  int64         \n",
      " 24  Review_pos             40000 non-null  int64         \n",
      " 25  Review_neg             40000 non-null  int64         \n",
      "dtypes: datetime64[ns](2), float64(7), int64(8), object(8), uint8(1)\n",
      "memory usage: 7.7+ MB\n"
     ]
    }
   ],
   "source": [
    "df.info()"
   ]
  },
  {
   "cell_type": "code",
   "execution_count": 55,
   "metadata": {},
   "outputs": [
    {
     "data": {
      "text/html": [
       "<div>\n",
       "<style scoped>\n",
       "    .dataframe tbody tr th:only-of-type {\n",
       "        vertical-align: middle;\n",
       "    }\n",
       "\n",
       "    .dataframe tbody tr th {\n",
       "        vertical-align: top;\n",
       "    }\n",
       "\n",
       "    .dataframe thead th {\n",
       "        text-align: right;\n",
       "    }\n",
       "</style>\n",
       "<table border=\"1\" class=\"dataframe\">\n",
       "  <thead>\n",
       "    <tr style=\"text-align: right;\">\n",
       "      <th></th>\n",
       "      <th>City</th>\n",
       "      <th>Cuisine_Style</th>\n",
       "      <th>Ranking</th>\n",
       "      <th>Rating</th>\n",
       "      <th>Price_Range</th>\n",
       "      <th>Number_of_Reviews</th>\n",
       "      <th>Reviews</th>\n",
       "      <th>URL_TA</th>\n",
       "      <th>ID_TA</th>\n",
       "      <th>NAN_Number_of_Reviews</th>\n",
       "      <th>...</th>\n",
       "      <th>NaN_Price</th>\n",
       "      <th>NAN_Reviews</th>\n",
       "      <th>Reviews_date_temp</th>\n",
       "      <th>date_of_Review</th>\n",
       "      <th>len_date</th>\n",
       "      <th>Reviews_date_first</th>\n",
       "      <th>Reviews_date_last</th>\n",
       "      <th>days_between_Reviews</th>\n",
       "      <th>Review_pos</th>\n",
       "      <th>Review_neg</th>\n",
       "    </tr>\n",
       "  </thead>\n",
       "  <tbody>\n",
       "    <tr>\n",
       "      <th>22373</th>\n",
       "      <td>Berlin</td>\n",
       "      <td>['Other']</td>\n",
       "      <td>5321.0</td>\n",
       "      <td>4.0</td>\n",
       "      <td>1</td>\n",
       "      <td>4.0</td>\n",
       "      <td>[['It used to be better'], ['08/31/2014']]</td>\n",
       "      <td>/Restaurant_Review-g187323-d7045749-Reviews-Gr...</td>\n",
       "      <td>d7045749</td>\n",
       "      <td>0.0</td>\n",
       "      <td>...</td>\n",
       "      <td>1.0</td>\n",
       "      <td>0</td>\n",
       "      <td>[08/31/2014]</td>\n",
       "      <td>[08/31/2014]</td>\n",
       "      <td>1</td>\n",
       "      <td>2014-08-31</td>\n",
       "      <td>2014-08-31</td>\n",
       "      <td>0</td>\n",
       "      <td>0</td>\n",
       "      <td>0</td>\n",
       "    </tr>\n",
       "    <tr>\n",
       "      <th>28820</th>\n",
       "      <td>Prague</td>\n",
       "      <td>['Italian', 'Mediterranean']</td>\n",
       "      <td>982.0</td>\n",
       "      <td>4.5</td>\n",
       "      <td>1</td>\n",
       "      <td>23.0</td>\n",
       "      <td>[['Great pizza', 'Great restaurant, lots of ch...</td>\n",
       "      <td>/Restaurant_Review-g274707-d4769645-Reviews-Pa...</td>\n",
       "      <td>d4769645</td>\n",
       "      <td>0.0</td>\n",
       "      <td>...</td>\n",
       "      <td>0.0</td>\n",
       "      <td>0</td>\n",
       "      <td>[10/28/2017, 03/25/2017]</td>\n",
       "      <td>[10/28/2017, 03/25/2017]</td>\n",
       "      <td>2</td>\n",
       "      <td>2017-03-25</td>\n",
       "      <td>2017-10-28</td>\n",
       "      <td>217</td>\n",
       "      <td>1</td>\n",
       "      <td>0</td>\n",
       "    </tr>\n",
       "    <tr>\n",
       "      <th>15289</th>\n",
       "      <td>London</td>\n",
       "      <td>['Lebanese', 'Fast Food', 'Middle Eastern', 'H...</td>\n",
       "      <td>5570.0</td>\n",
       "      <td>4.0</td>\n",
       "      <td>0</td>\n",
       "      <td>71.0</td>\n",
       "      <td>[['Quick awesome food', 'Best shawarma but hor...</td>\n",
       "      <td>/Restaurant_Review-g186338-d4834267-Reviews-Ca...</td>\n",
       "      <td>d4834267</td>\n",
       "      <td>0.0</td>\n",
       "      <td>...</td>\n",
       "      <td>0.0</td>\n",
       "      <td>0</td>\n",
       "      <td>[12/29/2017, 06/20/2017]</td>\n",
       "      <td>[12/29/2017, 06/20/2017]</td>\n",
       "      <td>2</td>\n",
       "      <td>2017-06-20</td>\n",
       "      <td>2017-12-29</td>\n",
       "      <td>192</td>\n",
       "      <td>1</td>\n",
       "      <td>1</td>\n",
       "    </tr>\n",
       "    <tr>\n",
       "      <th>15496</th>\n",
       "      <td>Prague</td>\n",
       "      <td>['Pub']</td>\n",
       "      <td>2945.0</td>\n",
       "      <td>4.0</td>\n",
       "      <td>1</td>\n",
       "      <td>11.0</td>\n",
       "      <td>[['Good Lunch', 'Delicious dinner!'], ['09/04/...</td>\n",
       "      <td>/Restaurant_Review-g274707-d4769026-Reviews-Pa...</td>\n",
       "      <td>d4769026</td>\n",
       "      <td>0.0</td>\n",
       "      <td>...</td>\n",
       "      <td>1.0</td>\n",
       "      <td>0</td>\n",
       "      <td>[09/04/2017, 10/10/2016]</td>\n",
       "      <td>[09/04/2017, 10/10/2016]</td>\n",
       "      <td>2</td>\n",
       "      <td>2016-10-10</td>\n",
       "      <td>2017-09-04</td>\n",
       "      <td>329</td>\n",
       "      <td>1</td>\n",
       "      <td>0</td>\n",
       "    </tr>\n",
       "    <tr>\n",
       "      <th>23049</th>\n",
       "      <td>Prague</td>\n",
       "      <td>['Vietnamese']</td>\n",
       "      <td>1700.0</td>\n",
       "      <td>4.5</td>\n",
       "      <td>0</td>\n",
       "      <td>15.0</td>\n",
       "      <td>[['Great takeaway', 'very nice place'], ['02/2...</td>\n",
       "      <td>/Restaurant_Review-g274707-d7124055-Reviews-Mr...</td>\n",
       "      <td>d7124055</td>\n",
       "      <td>0.0</td>\n",
       "      <td>...</td>\n",
       "      <td>0.0</td>\n",
       "      <td>0</td>\n",
       "      <td>[02/21/2017, 01/17/2017]</td>\n",
       "      <td>[02/21/2017, 01/17/2017]</td>\n",
       "      <td>2</td>\n",
       "      <td>2017-01-17</td>\n",
       "      <td>2017-02-21</td>\n",
       "      <td>35</td>\n",
       "      <td>1</td>\n",
       "      <td>0</td>\n",
       "    </tr>\n",
       "  </tbody>\n",
       "</table>\n",
       "<p>5 rows × 26 columns</p>\n",
       "</div>"
      ],
      "text/plain": [
       "         City                                      Cuisine_Style  Ranking  \\\n",
       "22373  Berlin                                          ['Other']   5321.0   \n",
       "28820  Prague                       ['Italian', 'Mediterranean']    982.0   \n",
       "15289  London  ['Lebanese', 'Fast Food', 'Middle Eastern', 'H...   5570.0   \n",
       "15496  Prague                                            ['Pub']   2945.0   \n",
       "23049  Prague                                     ['Vietnamese']   1700.0   \n",
       "\n",
       "       Rating  Price_Range  Number_of_Reviews  \\\n",
       "22373     4.0            1                4.0   \n",
       "28820     4.5            1               23.0   \n",
       "15289     4.0            0               71.0   \n",
       "15496     4.0            1               11.0   \n",
       "23049     4.5            0               15.0   \n",
       "\n",
       "                                                 Reviews  \\\n",
       "22373         [['It used to be better'], ['08/31/2014']]   \n",
       "28820  [['Great pizza', 'Great restaurant, lots of ch...   \n",
       "15289  [['Quick awesome food', 'Best shawarma but hor...   \n",
       "15496  [['Good Lunch', 'Delicious dinner!'], ['09/04/...   \n",
       "23049  [['Great takeaway', 'very nice place'], ['02/2...   \n",
       "\n",
       "                                                  URL_TA     ID_TA  \\\n",
       "22373  /Restaurant_Review-g187323-d7045749-Reviews-Gr...  d7045749   \n",
       "28820  /Restaurant_Review-g274707-d4769645-Reviews-Pa...  d4769645   \n",
       "15289  /Restaurant_Review-g186338-d4834267-Reviews-Ca...  d4834267   \n",
       "15496  /Restaurant_Review-g274707-d4769026-Reviews-Pa...  d4769026   \n",
       "23049  /Restaurant_Review-g274707-d7124055-Reviews-Mr...  d7124055   \n",
       "\n",
       "       NAN_Number_of_Reviews  ...  NaN_Price  NAN_Reviews  \\\n",
       "22373                    0.0  ...        1.0            0   \n",
       "28820                    0.0  ...        0.0            0   \n",
       "15289                    0.0  ...        0.0            0   \n",
       "15496                    0.0  ...        1.0            0   \n",
       "23049                    0.0  ...        0.0            0   \n",
       "\n",
       "              Reviews_date_temp            date_of_Review  len_date  \\\n",
       "22373              [08/31/2014]              [08/31/2014]         1   \n",
       "28820  [10/28/2017, 03/25/2017]  [10/28/2017, 03/25/2017]         2   \n",
       "15289  [12/29/2017, 06/20/2017]  [12/29/2017, 06/20/2017]         2   \n",
       "15496  [09/04/2017, 10/10/2016]  [09/04/2017, 10/10/2016]         2   \n",
       "23049  [02/21/2017, 01/17/2017]  [02/21/2017, 01/17/2017]         2   \n",
       "\n",
       "       Reviews_date_first  Reviews_date_last  days_between_Reviews Review_pos  \\\n",
       "22373          2014-08-31         2014-08-31                     0          0   \n",
       "28820          2017-03-25         2017-10-28                   217          1   \n",
       "15289          2017-06-20         2017-12-29                   192          1   \n",
       "15496          2016-10-10         2017-09-04                   329          1   \n",
       "23049          2017-01-17         2017-02-21                    35          1   \n",
       "\n",
       "      Review_neg  \n",
       "22373          0  \n",
       "28820          0  \n",
       "15289          1  \n",
       "15496          0  \n",
       "23049          0  \n",
       "\n",
       "[5 rows x 26 columns]"
      ]
     },
     "execution_count": 55,
     "metadata": {},
     "output_type": "execute_result"
    }
   ],
   "source": [
    "df.sample(5)"
   ]
  },
  {
   "cell_type": "code",
   "execution_count": 56,
   "metadata": {},
   "outputs": [],
   "source": [
    "# удалим лишние столбцы, на основе которых работали с датами\n",
    "df.drop(['Reviews_date_temp', 'Reviews_date_first','Reviews_date_last'], axis=1, inplace=True)"
   ]
  },
  {
   "cell_type": "markdown",
   "metadata": {},
   "source": [
    "Вывод: поработали с датами и количеством отзывов - важный признак, сформированы списки слов для определения характера отзыва(этот параметр хотелось бы обработать не вручную, более подробно), но этот признак не особо значительный."
   ]
  },
  {
   "cell_type": "markdown",
   "metadata": {},
   "source": [
    "6. URL_TA"
   ]
  },
  {
   "cell_type": "code",
   "execution_count": 57,
   "metadata": {},
   "outputs": [
    {
     "data": {
      "text/plain": [
       "/Restaurant_Review-g187514-d7809594-Reviews-La_Guapa-Madrid.html                                    2\n",
       "/Restaurant_Review-g187514-d4600226-Reviews-Cafeteria_Teresa-Madrid.html                            2\n",
       "/Restaurant_Review-g187514-d10047799-Reviews-Entrepuntos-Madrid.html                                2\n",
       "/Restaurant_Review-g187514-d7337366-Reviews-Lady_Madonna-Madrid.html                                2\n",
       "/Restaurant_Review-g187514-d8753348-Reviews-Tropecientos-Madrid.html                                2\n",
       "                                                                                                   ..\n",
       "/Restaurant_Review-g187147-d719796-Reviews-Orient_Extreme_St_Germain-Paris_Ile_de_France.html       1\n",
       "/Restaurant_Review-g274707-d3640421-Reviews-My_Darling_Clementine_Restaurant-Prague_Bohemia.html    1\n",
       "/Restaurant_Review-g187147-d10040334-Reviews-Comics_Burger-Paris_Ile_de_France.html                 1\n",
       "/Restaurant_Review-g187497-d717375-Reviews-Punjab_Restaurante-Barcelona_Catalonia.html              1\n",
       "/Restaurant_Review-g187147-d5955847-Reviews-Chez_Reginette-Paris_Ile_de_France.html                 1\n",
       "Name: URL_TA, Length: 39980, dtype: int64"
      ]
     },
     "execution_count": 57,
     "metadata": {},
     "output_type": "execute_result"
    }
   ],
   "source": [
    "df['URL_TA'].value_counts()"
   ]
  },
  {
   "cell_type": "code",
   "execution_count": 58,
   "metadata": {},
   "outputs": [
    {
     "data": {
      "text/html": [
       "<div>\n",
       "<style scoped>\n",
       "    .dataframe tbody tr th:only-of-type {\n",
       "        vertical-align: middle;\n",
       "    }\n",
       "\n",
       "    .dataframe tbody tr th {\n",
       "        vertical-align: top;\n",
       "    }\n",
       "\n",
       "    .dataframe thead th {\n",
       "        text-align: right;\n",
       "    }\n",
       "</style>\n",
       "<table border=\"1\" class=\"dataframe\">\n",
       "  <thead>\n",
       "    <tr style=\"text-align: right;\">\n",
       "      <th></th>\n",
       "      <th>City</th>\n",
       "      <th>Cuisine_Style</th>\n",
       "      <th>Ranking</th>\n",
       "      <th>Rating</th>\n",
       "      <th>Price_Range</th>\n",
       "      <th>Number_of_Reviews</th>\n",
       "      <th>Reviews</th>\n",
       "      <th>URL_TA</th>\n",
       "      <th>ID_TA</th>\n",
       "      <th>NAN_Number_of_Reviews</th>\n",
       "      <th>...</th>\n",
       "      <th>Cuisine_Style_list</th>\n",
       "      <th>NAN_Cuisine Style</th>\n",
       "      <th>Count_Cuisine_Style</th>\n",
       "      <th>NaN_Price</th>\n",
       "      <th>NAN_Reviews</th>\n",
       "      <th>date_of_Review</th>\n",
       "      <th>len_date</th>\n",
       "      <th>days_between_Reviews</th>\n",
       "      <th>Review_pos</th>\n",
       "      <th>Review_neg</th>\n",
       "    </tr>\n",
       "  </thead>\n",
       "  <tbody>\n",
       "    <tr>\n",
       "      <th>10439</th>\n",
       "      <td>Madrid</td>\n",
       "      <td>['Mediterranean', 'Spanish', 'Vegetarian Frien...</td>\n",
       "      <td>469.0</td>\n",
       "      <td>4.0</td>\n",
       "      <td>1</td>\n",
       "      <td>355.0</td>\n",
       "      <td>[['Very good all around', 'Our first Madrid re...</td>\n",
       "      <td>/Restaurant_Review-g187514-d1315077-Reviews-El...</td>\n",
       "      <td>d1315077</td>\n",
       "      <td>0.0</td>\n",
       "      <td>...</td>\n",
       "      <td>[Mediterranean, Spanish, Vegetarian Friendly, ...</td>\n",
       "      <td>0.0</td>\n",
       "      <td>74.0</td>\n",
       "      <td>0.0</td>\n",
       "      <td>0</td>\n",
       "      <td>[11/20/2017, 10/11/2017]</td>\n",
       "      <td>2</td>\n",
       "      <td>40</td>\n",
       "      <td>1</td>\n",
       "      <td>0</td>\n",
       "    </tr>\n",
       "    <tr>\n",
       "      <th>25785</th>\n",
       "      <td>Madrid</td>\n",
       "      <td>['Mediterranean', 'Spanish', 'Vegetarian Frien...</td>\n",
       "      <td>512.0</td>\n",
       "      <td>4.0</td>\n",
       "      <td>1</td>\n",
       "      <td>355.0</td>\n",
       "      <td>[['Very good all around', 'Our first Madrid re...</td>\n",
       "      <td>/Restaurant_Review-g187514-d1315077-Reviews-El...</td>\n",
       "      <td>d1315077</td>\n",
       "      <td>0.0</td>\n",
       "      <td>...</td>\n",
       "      <td>[Mediterranean, Spanish, Vegetarian Friendly, ...</td>\n",
       "      <td>0.0</td>\n",
       "      <td>74.0</td>\n",
       "      <td>0.0</td>\n",
       "      <td>0</td>\n",
       "      <td>[11/20/2017, 10/11/2017]</td>\n",
       "      <td>2</td>\n",
       "      <td>40</td>\n",
       "      <td>1</td>\n",
       "      <td>0</td>\n",
       "    </tr>\n",
       "  </tbody>\n",
       "</table>\n",
       "<p>2 rows × 23 columns</p>\n",
       "</div>"
      ],
      "text/plain": [
       "         City                                      Cuisine_Style  Ranking  \\\n",
       "10439  Madrid  ['Mediterranean', 'Spanish', 'Vegetarian Frien...    469.0   \n",
       "25785  Madrid  ['Mediterranean', 'Spanish', 'Vegetarian Frien...    512.0   \n",
       "\n",
       "       Rating  Price_Range  Number_of_Reviews  \\\n",
       "10439     4.0            1              355.0   \n",
       "25785     4.0            1              355.0   \n",
       "\n",
       "                                                 Reviews  \\\n",
       "10439  [['Very good all around', 'Our first Madrid re...   \n",
       "25785  [['Very good all around', 'Our first Madrid re...   \n",
       "\n",
       "                                                  URL_TA     ID_TA  \\\n",
       "10439  /Restaurant_Review-g187514-d1315077-Reviews-El...  d1315077   \n",
       "25785  /Restaurant_Review-g187514-d1315077-Reviews-El...  d1315077   \n",
       "\n",
       "       NAN_Number_of_Reviews  ...  \\\n",
       "10439                    0.0  ...   \n",
       "25785                    0.0  ...   \n",
       "\n",
       "                                      Cuisine_Style_list  NAN_Cuisine Style  \\\n",
       "10439  [Mediterranean, Spanish, Vegetarian Friendly, ...                0.0   \n",
       "25785  [Mediterranean, Spanish, Vegetarian Friendly, ...                0.0   \n",
       "\n",
       "       Count_Cuisine_Style NaN_Price  NAN_Reviews            date_of_Review  \\\n",
       "10439                 74.0       0.0            0  [11/20/2017, 10/11/2017]   \n",
       "25785                 74.0       0.0            0  [11/20/2017, 10/11/2017]   \n",
       "\n",
       "       len_date  days_between_Reviews Review_pos  Review_neg  \n",
       "10439         2                    40          1           0  \n",
       "25785         2                    40          1           0  \n",
       "\n",
       "[2 rows x 23 columns]"
      ]
     },
     "execution_count": 58,
     "metadata": {},
     "output_type": "execute_result"
    }
   ],
   "source": [
    "# рассмотрим пример дубликата\n",
    "df_ID_TA = df[df['URL_TA'] == '/Restaurant_Review-g187514-d1315077-Reviews-El_Pimiento_Verde-Madrid.html']\n",
    "df_ID_TA"
   ]
  },
  {
   "cell_type": "markdown",
   "metadata": {},
   "source": [
    "Вывод: непонятно, почему строки задвоены, отличается только 'Ranking', возможно так помечены ресторанные сети? столбец не особо информативен, поэтому удалим дубликаты, а потом и столбец."
   ]
  },
  {
   "cell_type": "markdown",
   "metadata": {},
   "source": [
    "7. ID_TA"
   ]
  },
  {
   "cell_type": "code",
   "execution_count": 59,
   "metadata": {},
   "outputs": [
    {
     "data": {
      "text/plain": [
       "d7809594     2\n",
       "d793170      2\n",
       "d11698990    2\n",
       "d13002276    2\n",
       "d1315077     2\n",
       "            ..\n",
       "d697019      1\n",
       "d3180656     1\n",
       "d2098316     1\n",
       "d1392601     1\n",
       "d3253049     1\n",
       "Name: ID_TA, Length: 39980, dtype: int64"
      ]
     },
     "execution_count": 59,
     "metadata": {},
     "output_type": "execute_result"
    }
   ],
   "source": [
    "df['ID_TA'].value_counts()"
   ]
  },
  {
   "cell_type": "code",
   "execution_count": 60,
   "metadata": {},
   "outputs": [
    {
     "data": {
      "text/html": [
       "<div>\n",
       "<style scoped>\n",
       "    .dataframe tbody tr th:only-of-type {\n",
       "        vertical-align: middle;\n",
       "    }\n",
       "\n",
       "    .dataframe tbody tr th {\n",
       "        vertical-align: top;\n",
       "    }\n",
       "\n",
       "    .dataframe thead th {\n",
       "        text-align: right;\n",
       "    }\n",
       "</style>\n",
       "<table border=\"1\" class=\"dataframe\">\n",
       "  <thead>\n",
       "    <tr style=\"text-align: right;\">\n",
       "      <th></th>\n",
       "      <th>City</th>\n",
       "      <th>Cuisine_Style</th>\n",
       "      <th>Ranking</th>\n",
       "      <th>Rating</th>\n",
       "      <th>Price_Range</th>\n",
       "      <th>Number_of_Reviews</th>\n",
       "      <th>Reviews</th>\n",
       "      <th>URL_TA</th>\n",
       "      <th>ID_TA</th>\n",
       "      <th>NAN_Number_of_Reviews</th>\n",
       "      <th>...</th>\n",
       "      <th>Cuisine_Style_list</th>\n",
       "      <th>NAN_Cuisine Style</th>\n",
       "      <th>Count_Cuisine_Style</th>\n",
       "      <th>NaN_Price</th>\n",
       "      <th>NAN_Reviews</th>\n",
       "      <th>date_of_Review</th>\n",
       "      <th>len_date</th>\n",
       "      <th>days_between_Reviews</th>\n",
       "      <th>Review_pos</th>\n",
       "      <th>Review_neg</th>\n",
       "    </tr>\n",
       "  </thead>\n",
       "  <tbody>\n",
       "    <tr>\n",
       "      <th>4902</th>\n",
       "      <td>Prague</td>\n",
       "      <td>['American', 'Fast Food']</td>\n",
       "      <td>3675.0</td>\n",
       "      <td>3.0</td>\n",
       "      <td>1</td>\n",
       "      <td>3.0</td>\n",
       "      <td>[[], []]</td>\n",
       "      <td>/Restaurant_Review-g274707-d7123488-Reviews-Ka...</td>\n",
       "      <td>d7123488</td>\n",
       "      <td>0.0</td>\n",
       "      <td>...</td>\n",
       "      <td>[American, Fast Food]</td>\n",
       "      <td>0.0</td>\n",
       "      <td>25.0</td>\n",
       "      <td>1.0</td>\n",
       "      <td>0</td>\n",
       "      <td>[]</td>\n",
       "      <td>0</td>\n",
       "      <td>0</td>\n",
       "      <td>0</td>\n",
       "      <td>0</td>\n",
       "    </tr>\n",
       "  </tbody>\n",
       "</table>\n",
       "<p>1 rows × 23 columns</p>\n",
       "</div>"
      ],
      "text/plain": [
       "        City              Cuisine_Style  Ranking  Rating  Price_Range  \\\n",
       "4902  Prague  ['American', 'Fast Food']   3675.0     3.0            1   \n",
       "\n",
       "      Number_of_Reviews   Reviews  \\\n",
       "4902                3.0  [[], []]   \n",
       "\n",
       "                                                 URL_TA     ID_TA  \\\n",
       "4902  /Restaurant_Review-g274707-d7123488-Reviews-Ka...  d7123488   \n",
       "\n",
       "      NAN_Number_of_Reviews  ...     Cuisine_Style_list  NAN_Cuisine Style  \\\n",
       "4902                    0.0  ...  [American, Fast Food]                0.0   \n",
       "\n",
       "      Count_Cuisine_Style NaN_Price  NAN_Reviews  date_of_Review  len_date  \\\n",
       "4902                 25.0       1.0            0              []         0   \n",
       "\n",
       "      days_between_Reviews Review_pos  Review_neg  \n",
       "4902                     0          0           0  \n",
       "\n",
       "[1 rows x 23 columns]"
      ]
     },
     "execution_count": 60,
     "metadata": {},
     "output_type": "execute_result"
    }
   ],
   "source": [
    "df.sample()"
   ]
  },
  {
   "cell_type": "code",
   "execution_count": 61,
   "metadata": {},
   "outputs": [
    {
     "data": {
      "text/html": [
       "<div>\n",
       "<style scoped>\n",
       "    .dataframe tbody tr th:only-of-type {\n",
       "        vertical-align: middle;\n",
       "    }\n",
       "\n",
       "    .dataframe tbody tr th {\n",
       "        vertical-align: top;\n",
       "    }\n",
       "\n",
       "    .dataframe thead th {\n",
       "        text-align: right;\n",
       "    }\n",
       "</style>\n",
       "<table border=\"1\" class=\"dataframe\">\n",
       "  <thead>\n",
       "    <tr style=\"text-align: right;\">\n",
       "      <th></th>\n",
       "      <th>City</th>\n",
       "      <th>Cuisine_Style</th>\n",
       "      <th>Ranking</th>\n",
       "      <th>Rating</th>\n",
       "      <th>Price_Range</th>\n",
       "      <th>Number_of_Reviews</th>\n",
       "      <th>Reviews</th>\n",
       "      <th>URL_TA</th>\n",
       "      <th>ID_TA</th>\n",
       "      <th>NAN_Number_of_Reviews</th>\n",
       "      <th>...</th>\n",
       "      <th>Cuisine_Style_list</th>\n",
       "      <th>NAN_Cuisine Style</th>\n",
       "      <th>Count_Cuisine_Style</th>\n",
       "      <th>NaN_Price</th>\n",
       "      <th>NAN_Reviews</th>\n",
       "      <th>date_of_Review</th>\n",
       "      <th>len_date</th>\n",
       "      <th>days_between_Reviews</th>\n",
       "      <th>Review_pos</th>\n",
       "      <th>Review_neg</th>\n",
       "    </tr>\n",
       "  </thead>\n",
       "  <tbody>\n",
       "    <tr>\n",
       "      <th>13942</th>\n",
       "      <td>Madrid</td>\n",
       "      <td>['Spanish']</td>\n",
       "      <td>1104.0</td>\n",
       "      <td>4.5</td>\n",
       "      <td>1</td>\n",
       "      <td>73.0</td>\n",
       "      <td>[['ok for beer, not for dinner'], ['12/20/2017']]</td>\n",
       "      <td>/Restaurant_Review-g187514-d8753348-Reviews-Tr...</td>\n",
       "      <td>d8753348</td>\n",
       "      <td>0.0</td>\n",
       "      <td>...</td>\n",
       "      <td>[Spanish]</td>\n",
       "      <td>0.0</td>\n",
       "      <td>11.0</td>\n",
       "      <td>0.0</td>\n",
       "      <td>0</td>\n",
       "      <td>[12/20/2017]</td>\n",
       "      <td>1</td>\n",
       "      <td>0</td>\n",
       "      <td>1</td>\n",
       "      <td>0</td>\n",
       "    </tr>\n",
       "    <tr>\n",
       "      <th>31238</th>\n",
       "      <td>Madrid</td>\n",
       "      <td>['Spanish']</td>\n",
       "      <td>1213.0</td>\n",
       "      <td>4.5</td>\n",
       "      <td>1</td>\n",
       "      <td>73.0</td>\n",
       "      <td>[['ok for beer, not for dinner'], ['12/20/2017']]</td>\n",
       "      <td>/Restaurant_Review-g187514-d8753348-Reviews-Tr...</td>\n",
       "      <td>d8753348</td>\n",
       "      <td>0.0</td>\n",
       "      <td>...</td>\n",
       "      <td>[Spanish]</td>\n",
       "      <td>0.0</td>\n",
       "      <td>11.0</td>\n",
       "      <td>0.0</td>\n",
       "      <td>0</td>\n",
       "      <td>[12/20/2017]</td>\n",
       "      <td>1</td>\n",
       "      <td>0</td>\n",
       "      <td>1</td>\n",
       "      <td>0</td>\n",
       "    </tr>\n",
       "  </tbody>\n",
       "</table>\n",
       "<p>2 rows × 23 columns</p>\n",
       "</div>"
      ],
      "text/plain": [
       "         City Cuisine_Style  Ranking  Rating  Price_Range  Number_of_Reviews  \\\n",
       "13942  Madrid   ['Spanish']   1104.0     4.5            1               73.0   \n",
       "31238  Madrid   ['Spanish']   1213.0     4.5            1               73.0   \n",
       "\n",
       "                                                 Reviews  \\\n",
       "13942  [['ok for beer, not for dinner'], ['12/20/2017']]   \n",
       "31238  [['ok for beer, not for dinner'], ['12/20/2017']]   \n",
       "\n",
       "                                                  URL_TA     ID_TA  \\\n",
       "13942  /Restaurant_Review-g187514-d8753348-Reviews-Tr...  d8753348   \n",
       "31238  /Restaurant_Review-g187514-d8753348-Reviews-Tr...  d8753348   \n",
       "\n",
       "       NAN_Number_of_Reviews  ...  Cuisine_Style_list  NAN_Cuisine Style  \\\n",
       "13942                    0.0  ...           [Spanish]                0.0   \n",
       "31238                    0.0  ...           [Spanish]                0.0   \n",
       "\n",
       "       Count_Cuisine_Style NaN_Price  NAN_Reviews  date_of_Review  len_date  \\\n",
       "13942                 11.0       0.0            0    [12/20/2017]         1   \n",
       "31238                 11.0       0.0            0    [12/20/2017]         1   \n",
       "\n",
       "       days_between_Reviews Review_pos  Review_neg  \n",
       "13942                     0          1           0  \n",
       "31238                     0          1           0  \n",
       "\n",
       "[2 rows x 23 columns]"
      ]
     },
     "execution_count": 61,
     "metadata": {},
     "output_type": "execute_result"
    }
   ],
   "source": [
    "# также есть повторяющиеся значения, посмотрим на пример такого\n",
    "df_ID_TA = df[df['ID_TA'] == 'd8753348']\n",
    "df_ID_TA"
   ]
  },
  {
   "cell_type": "code",
   "execution_count": 62,
   "metadata": {},
   "outputs": [
    {
     "data": {
      "text/plain": [
       "Madrid    40\n",
       "Name: City, dtype: int64"
      ]
     },
     "execution_count": 62,
     "metadata": {},
     "output_type": "execute_result"
    }
   ],
   "source": [
    "# посмотрим на дубликаты по городам\n",
    "df[(df['ID_TA'].map(df['ID_TA'].value_counts()) == 2)].sort_values(by='ID_TA').City.value_counts()"
   ]
  },
  {
   "cell_type": "markdown",
   "metadata": {},
   "source": [
    "Вывод: такая же ситуация с дубликатами, дубликаты есть в Мадриде, удалим весь столбец."
   ]
  },
  {
   "cell_type": "code",
   "execution_count": 63,
   "metadata": {},
   "outputs": [],
   "source": [
    "df.drop(columns=['ID_TA'], inplace=True)\n",
    "df.drop(columns=['URL_TA'], inplace=True)"
   ]
  },
  {
   "cell_type": "markdown",
   "metadata": {},
   "source": [
    "# Визуализация"
   ]
  },
  {
   "cell_type": "code",
   "execution_count": 64,
   "metadata": {},
   "outputs": [
    {
     "data": {
      "text/plain": [
       "<matplotlib.axes._subplots.AxesSubplot at 0x7fdd29718250>"
      ]
     },
     "execution_count": 64,
     "metadata": {},
     "output_type": "execute_result"
    },
    {
     "data": {
      "image/png": "[encoded data removed]",
      "text/plain": [
       "<Figure size 1080x720 with 2 Axes>"
      ]
     },
     "metadata": {
      "needs_background": "light"
     },
     "output_type": "display_data"
    }
   ],
   "source": [
    "plt.rcParams['figure.figsize'] = (15,10)\n",
    "sns.heatmap(df.drop(['Rating'], axis=1).corr(),)"
   ]
  },
  {
   "cell_type": "code",
   "execution_count": 65,
   "metadata": {},
   "outputs": [
    {
     "data": {
      "text/html": [
       "<div>\n",
       "<style scoped>\n",
       "    .dataframe tbody tr th:only-of-type {\n",
       "        vertical-align: middle;\n",
       "    }\n",
       "\n",
       "    .dataframe tbody tr th {\n",
       "        vertical-align: top;\n",
       "    }\n",
       "\n",
       "    .dataframe thead th {\n",
       "        text-align: right;\n",
       "    }\n",
       "</style>\n",
       "<table border=\"1\" class=\"dataframe\">\n",
       "  <thead>\n",
       "    <tr style=\"text-align: right;\">\n",
       "      <th></th>\n",
       "      <th>Ranking</th>\n",
       "      <th>Rating</th>\n",
       "      <th>Price_Range</th>\n",
       "      <th>Number_of_Reviews</th>\n",
       "      <th>NAN_Number_of_Reviews</th>\n",
       "      <th>Capital_City</th>\n",
       "      <th>Сity_population</th>\n",
       "      <th>Rest_num</th>\n",
       "      <th>NAN_Cuisine Style</th>\n",
       "      <th>Count_Cuisine_Style</th>\n",
       "      <th>NaN_Price</th>\n",
       "      <th>NAN_Reviews</th>\n",
       "      <th>len_date</th>\n",
       "      <th>days_between_Reviews</th>\n",
       "      <th>Review_pos</th>\n",
       "      <th>Review_neg</th>\n",
       "    </tr>\n",
       "  </thead>\n",
       "  <tbody>\n",
       "    <tr>\n",
       "      <th>Ranking</th>\n",
       "      <td>1.000000</td>\n",
       "      <td>-0.368371</td>\n",
       "      <td>-0.026525</td>\n",
       "      <td>-0.221952</td>\n",
       "      <td>0.094078</td>\n",
       "      <td>0.202251</td>\n",
       "      <td>0.571674</td>\n",
       "      <td>0.571674</td>\n",
       "      <td>0.147995</td>\n",
       "      <td>-0.344941</td>\n",
       "      <td>0.233043</td>\n",
       "      <td>NaN</td>\n",
       "      <td>-0.139749</td>\n",
       "      <td>0.065661</td>\n",
       "      <td>-0.168295</td>\n",
       "      <td>0.110987</td>\n",
       "    </tr>\n",
       "    <tr>\n",
       "      <th>Rating</th>\n",
       "      <td>-0.368371</td>\n",
       "      <td>1.000000</td>\n",
       "      <td>-0.028588</td>\n",
       "      <td>0.026943</td>\n",
       "      <td>0.008386</td>\n",
       "      <td>0.020758</td>\n",
       "      <td>-0.024558</td>\n",
       "      <td>-0.024558</td>\n",
       "      <td>-0.038263</td>\n",
       "      <td>0.136916</td>\n",
       "      <td>-0.064567</td>\n",
       "      <td>NaN</td>\n",
       "      <td>0.020524</td>\n",
       "      <td>-0.065990</td>\n",
       "      <td>0.145568</td>\n",
       "      <td>-0.235307</td>\n",
       "    </tr>\n",
       "    <tr>\n",
       "      <th>Price_Range</th>\n",
       "      <td>-0.026525</td>\n",
       "      <td>-0.028588</td>\n",
       "      <td>1.000000</td>\n",
       "      <td>0.107250</td>\n",
       "      <td>0.040268</td>\n",
       "      <td>-0.008270</td>\n",
       "      <td>-0.017683</td>\n",
       "      <td>-0.017683</td>\n",
       "      <td>0.158268</td>\n",
       "      <td>0.024178</td>\n",
       "      <td>0.209937</td>\n",
       "      <td>NaN</td>\n",
       "      <td>-0.076348</td>\n",
       "      <td>-0.039184</td>\n",
       "      <td>-0.060546</td>\n",
       "      <td>-0.001259</td>\n",
       "    </tr>\n",
       "    <tr>\n",
       "      <th>Number_of_Reviews</th>\n",
       "      <td>-0.221952</td>\n",
       "      <td>0.026943</td>\n",
       "      <td>0.107250</td>\n",
       "      <td>1.000000</td>\n",
       "      <td>-0.104176</td>\n",
       "      <td>0.013471</td>\n",
       "      <td>0.022234</td>\n",
       "      <td>0.022234</td>\n",
       "      <td>-0.201031</td>\n",
       "      <td>0.442387</td>\n",
       "      <td>-0.266392</td>\n",
       "      <td>NaN</td>\n",
       "      <td>0.213245</td>\n",
       "      <td>-0.086830</td>\n",
       "      <td>0.149102</td>\n",
       "      <td>-0.015838</td>\n",
       "    </tr>\n",
       "    <tr>\n",
       "      <th>NAN_Number_of_Reviews</th>\n",
       "      <td>0.094078</td>\n",
       "      <td>0.008386</td>\n",
       "      <td>0.040268</td>\n",
       "      <td>-0.104176</td>\n",
       "      <td>1.000000</td>\n",
       "      <td>0.001391</td>\n",
       "      <td>-0.004098</td>\n",
       "      <td>-0.004098</td>\n",
       "      <td>0.186118</td>\n",
       "      <td>-0.177546</td>\n",
       "      <td>0.266923</td>\n",
       "      <td>NaN</td>\n",
       "      <td>-0.410995</td>\n",
       "      <td>-0.134675</td>\n",
       "      <td>-0.259080</td>\n",
       "      <td>-0.056705</td>\n",
       "    </tr>\n",
       "    <tr>\n",
       "      <th>Capital_City</th>\n",
       "      <td>0.202251</td>\n",
       "      <td>0.020758</td>\n",
       "      <td>-0.008270</td>\n",
       "      <td>0.013471</td>\n",
       "      <td>0.001391</td>\n",
       "      <td>1.000000</td>\n",
       "      <td>0.317011</td>\n",
       "      <td>0.317011</td>\n",
       "      <td>-0.053798</td>\n",
       "      <td>0.033670</td>\n",
       "      <td>-0.042666</td>\n",
       "      <td>NaN</td>\n",
       "      <td>0.119335</td>\n",
       "      <td>-0.006912</td>\n",
       "      <td>0.066806</td>\n",
       "      <td>0.008214</td>\n",
       "    </tr>\n",
       "    <tr>\n",
       "      <th>Сity_population</th>\n",
       "      <td>0.571674</td>\n",
       "      <td>-0.024558</td>\n",
       "      <td>-0.017683</td>\n",
       "      <td>0.022234</td>\n",
       "      <td>-0.004098</td>\n",
       "      <td>0.317011</td>\n",
       "      <td>1.000000</td>\n",
       "      <td>1.000000</td>\n",
       "      <td>-0.041864</td>\n",
       "      <td>0.046791</td>\n",
       "      <td>-0.039081</td>\n",
       "      <td>NaN</td>\n",
       "      <td>0.133503</td>\n",
       "      <td>-0.020638</td>\n",
       "      <td>0.063018</td>\n",
       "      <td>0.017228</td>\n",
       "    </tr>\n",
       "    <tr>\n",
       "      <th>Rest_num</th>\n",
       "      <td>0.571674</td>\n",
       "      <td>-0.024558</td>\n",
       "      <td>-0.017683</td>\n",
       "      <td>0.022234</td>\n",
       "      <td>-0.004098</td>\n",
       "      <td>0.317011</td>\n",
       "      <td>1.000000</td>\n",
       "      <td>1.000000</td>\n",
       "      <td>-0.041864</td>\n",
       "      <td>0.046791</td>\n",
       "      <td>-0.039081</td>\n",
       "      <td>NaN</td>\n",
       "      <td>0.133503</td>\n",
       "      <td>-0.020638</td>\n",
       "      <td>0.063018</td>\n",
       "      <td>0.017228</td>\n",
       "    </tr>\n",
       "    <tr>\n",
       "      <th>NAN_Cuisine Style</th>\n",
       "      <td>0.147995</td>\n",
       "      <td>-0.038263</td>\n",
       "      <td>0.158268</td>\n",
       "      <td>-0.201031</td>\n",
       "      <td>0.186118</td>\n",
       "      <td>-0.053798</td>\n",
       "      <td>-0.041864</td>\n",
       "      <td>-0.041864</td>\n",
       "      <td>1.000000</td>\n",
       "      <td>-0.483018</td>\n",
       "      <td>0.753881</td>\n",
       "      <td>NaN</td>\n",
       "      <td>-0.345494</td>\n",
       "      <td>-0.013625</td>\n",
       "      <td>-0.230935</td>\n",
       "      <td>-0.030967</td>\n",
       "    </tr>\n",
       "    <tr>\n",
       "      <th>Count_Cuisine_Style</th>\n",
       "      <td>-0.344941</td>\n",
       "      <td>0.136916</td>\n",
       "      <td>0.024178</td>\n",
       "      <td>0.442387</td>\n",
       "      <td>-0.177546</td>\n",
       "      <td>0.033670</td>\n",
       "      <td>0.046791</td>\n",
       "      <td>0.046791</td>\n",
       "      <td>-0.483018</td>\n",
       "      <td>1.000000</td>\n",
       "      <td>-0.561499</td>\n",
       "      <td>NaN</td>\n",
       "      <td>0.376539</td>\n",
       "      <td>-0.124417</td>\n",
       "      <td>0.283155</td>\n",
       "      <td>-0.031661</td>\n",
       "    </tr>\n",
       "    <tr>\n",
       "      <th>NaN_Price</th>\n",
       "      <td>0.233043</td>\n",
       "      <td>-0.064567</td>\n",
       "      <td>0.209937</td>\n",
       "      <td>-0.266392</td>\n",
       "      <td>0.266923</td>\n",
       "      <td>-0.042666</td>\n",
       "      <td>-0.039081</td>\n",
       "      <td>-0.039081</td>\n",
       "      <td>0.753881</td>\n",
       "      <td>-0.561499</td>\n",
       "      <td>1.000000</td>\n",
       "      <td>NaN</td>\n",
       "      <td>-0.506996</td>\n",
       "      <td>-0.005888</td>\n",
       "      <td>-0.345580</td>\n",
       "      <td>-0.043167</td>\n",
       "    </tr>\n",
       "    <tr>\n",
       "      <th>NAN_Reviews</th>\n",
       "      <td>NaN</td>\n",
       "      <td>NaN</td>\n",
       "      <td>NaN</td>\n",
       "      <td>NaN</td>\n",
       "      <td>NaN</td>\n",
       "      <td>NaN</td>\n",
       "      <td>NaN</td>\n",
       "      <td>NaN</td>\n",
       "      <td>NaN</td>\n",
       "      <td>NaN</td>\n",
       "      <td>NaN</td>\n",
       "      <td>NaN</td>\n",
       "      <td>NaN</td>\n",
       "      <td>NaN</td>\n",
       "      <td>NaN</td>\n",
       "      <td>NaN</td>\n",
       "    </tr>\n",
       "    <tr>\n",
       "      <th>len_date</th>\n",
       "      <td>-0.139749</td>\n",
       "      <td>0.020524</td>\n",
       "      <td>-0.076348</td>\n",
       "      <td>0.213245</td>\n",
       "      <td>-0.410995</td>\n",
       "      <td>0.119335</td>\n",
       "      <td>0.133503</td>\n",
       "      <td>0.133503</td>\n",
       "      <td>-0.345494</td>\n",
       "      <td>0.376539</td>\n",
       "      <td>-0.506996</td>\n",
       "      <td>NaN</td>\n",
       "      <td>1.000000</td>\n",
       "      <td>0.299549</td>\n",
       "      <td>0.653001</td>\n",
       "      <td>0.133700</td>\n",
       "    </tr>\n",
       "    <tr>\n",
       "      <th>days_between_Reviews</th>\n",
       "      <td>0.065661</td>\n",
       "      <td>-0.065990</td>\n",
       "      <td>-0.039184</td>\n",
       "      <td>-0.086830</td>\n",
       "      <td>-0.134675</td>\n",
       "      <td>-0.006912</td>\n",
       "      <td>-0.020638</td>\n",
       "      <td>-0.020638</td>\n",
       "      <td>-0.013625</td>\n",
       "      <td>-0.124417</td>\n",
       "      <td>-0.005888</td>\n",
       "      <td>NaN</td>\n",
       "      <td>0.299549</td>\n",
       "      <td>1.000000</td>\n",
       "      <td>0.159695</td>\n",
       "      <td>0.084963</td>\n",
       "    </tr>\n",
       "    <tr>\n",
       "      <th>Review_pos</th>\n",
       "      <td>-0.168295</td>\n",
       "      <td>0.145568</td>\n",
       "      <td>-0.060546</td>\n",
       "      <td>0.149102</td>\n",
       "      <td>-0.259080</td>\n",
       "      <td>0.066806</td>\n",
       "      <td>0.063018</td>\n",
       "      <td>0.063018</td>\n",
       "      <td>-0.230935</td>\n",
       "      <td>0.283155</td>\n",
       "      <td>-0.345580</td>\n",
       "      <td>NaN</td>\n",
       "      <td>0.653001</td>\n",
       "      <td>0.159695</td>\n",
       "      <td>1.000000</td>\n",
       "      <td>-0.026835</td>\n",
       "    </tr>\n",
       "    <tr>\n",
       "      <th>Review_neg</th>\n",
       "      <td>0.110987</td>\n",
       "      <td>-0.235307</td>\n",
       "      <td>-0.001259</td>\n",
       "      <td>-0.015838</td>\n",
       "      <td>-0.056705</td>\n",
       "      <td>0.008214</td>\n",
       "      <td>0.017228</td>\n",
       "      <td>0.017228</td>\n",
       "      <td>-0.030967</td>\n",
       "      <td>-0.031661</td>\n",
       "      <td>-0.043167</td>\n",
       "      <td>NaN</td>\n",
       "      <td>0.133700</td>\n",
       "      <td>0.084963</td>\n",
       "      <td>-0.026835</td>\n",
       "      <td>1.000000</td>\n",
       "    </tr>\n",
       "  </tbody>\n",
       "</table>\n",
       "</div>"
      ],
      "text/plain": [
       "                        Ranking    Rating  Price_Range  Number_of_Reviews  \\\n",
       "Ranking                1.000000 -0.368371    -0.026525          -0.221952   \n",
       "Rating                -0.368371  1.000000    -0.028588           0.026943   \n",
       "Price_Range           -0.026525 -0.028588     1.000000           0.107250   \n",
       "Number_of_Reviews     -0.221952  0.026943     0.107250           1.000000   \n",
       "NAN_Number_of_Reviews  0.094078  0.008386     0.040268          -0.104176   \n",
       "Capital_City           0.202251  0.020758    -0.008270           0.013471   \n",
       "Сity_population        0.571674 -0.024558    -0.017683           0.022234   \n",
       "Rest_num               0.571674 -0.024558    -0.017683           0.022234   \n",
       "NAN_Cuisine Style      0.147995 -0.038263     0.158268          -0.201031   \n",
       "Count_Cuisine_Style   -0.344941  0.136916     0.024178           0.442387   \n",
       "NaN_Price              0.233043 -0.064567     0.209937          -0.266392   \n",
       "NAN_Reviews                 NaN       NaN          NaN                NaN   \n",
       "len_date              -0.139749  0.020524    -0.076348           0.213245   \n",
       "days_between_Reviews   0.065661 -0.065990    -0.039184          -0.086830   \n",
       "Review_pos            -0.168295  0.145568    -0.060546           0.149102   \n",
       "Review_neg             0.110987 -0.235307    -0.001259          -0.015838   \n",
       "\n",
       "                       NAN_Number_of_Reviews  Capital_City  Сity_population  \\\n",
       "Ranking                             0.094078      0.202251         0.571674   \n",
       "Rating                              0.008386      0.020758        -0.024558   \n",
       "Price_Range                         0.040268     -0.008270        -0.017683   \n",
       "Number_of_Reviews                  -0.104176      0.013471         0.022234   \n",
       "NAN_Number_of_Reviews               1.000000      0.001391        -0.004098   \n",
       "Capital_City                        0.001391      1.000000         0.317011   \n",
       "Сity_population                    -0.004098      0.317011         1.000000   \n",
       "Rest_num                           -0.004098      0.317011         1.000000   \n",
       "NAN_Cuisine Style                   0.186118     -0.053798        -0.041864   \n",
       "Count_Cuisine_Style                -0.177546      0.033670         0.046791   \n",
       "NaN_Price                           0.266923     -0.042666        -0.039081   \n",
       "NAN_Reviews                              NaN           NaN              NaN   \n",
       "len_date                           -0.410995      0.119335         0.133503   \n",
       "days_between_Reviews               -0.134675     -0.006912        -0.020638   \n",
       "Review_pos                         -0.259080      0.066806         0.063018   \n",
       "Review_neg                         -0.056705      0.008214         0.017228   \n",
       "\n",
       "                       Rest_num  NAN_Cuisine Style  Count_Cuisine_Style  \\\n",
       "Ranking                0.571674           0.147995            -0.344941   \n",
       "Rating                -0.024558          -0.038263             0.136916   \n",
       "Price_Range           -0.017683           0.158268             0.024178   \n",
       "Number_of_Reviews      0.022234          -0.201031             0.442387   \n",
       "NAN_Number_of_Reviews -0.004098           0.186118            -0.177546   \n",
       "Capital_City           0.317011          -0.053798             0.033670   \n",
       "Сity_population        1.000000          -0.041864             0.046791   \n",
       "Rest_num               1.000000          -0.041864             0.046791   \n",
       "NAN_Cuisine Style     -0.041864           1.000000            -0.483018   \n",
       "Count_Cuisine_Style    0.046791          -0.483018             1.000000   \n",
       "NaN_Price             -0.039081           0.753881            -0.561499   \n",
       "NAN_Reviews                 NaN                NaN                  NaN   \n",
       "len_date               0.133503          -0.345494             0.376539   \n",
       "days_between_Reviews  -0.020638          -0.013625            -0.124417   \n",
       "Review_pos             0.063018          -0.230935             0.283155   \n",
       "Review_neg             0.017228          -0.030967            -0.031661   \n",
       "\n",
       "                       NaN_Price  NAN_Reviews  len_date  days_between_Reviews  \\\n",
       "Ranking                 0.233043          NaN -0.139749              0.065661   \n",
       "Rating                 -0.064567          NaN  0.020524             -0.065990   \n",
       "Price_Range             0.209937          NaN -0.076348             -0.039184   \n",
       "Number_of_Reviews      -0.266392          NaN  0.213245             -0.086830   \n",
       "NAN_Number_of_Reviews   0.266923          NaN -0.410995             -0.134675   \n",
       "Capital_City           -0.042666          NaN  0.119335             -0.006912   \n",
       "Сity_population        -0.039081          NaN  0.133503             -0.020638   \n",
       "Rest_num               -0.039081          NaN  0.133503             -0.020638   \n",
       "NAN_Cuisine Style       0.753881          NaN -0.345494             -0.013625   \n",
       "Count_Cuisine_Style    -0.561499          NaN  0.376539             -0.124417   \n",
       "NaN_Price               1.000000          NaN -0.506996             -0.005888   \n",
       "NAN_Reviews                  NaN          NaN       NaN                   NaN   \n",
       "len_date               -0.506996          NaN  1.000000              0.299549   \n",
       "days_between_Reviews   -0.005888          NaN  0.299549              1.000000   \n",
       "Review_pos             -0.345580          NaN  0.653001              0.159695   \n",
       "Review_neg             -0.043167          NaN  0.133700              0.084963   \n",
       "\n",
       "                       Review_pos  Review_neg  \n",
       "Ranking                 -0.168295    0.110987  \n",
       "Rating                   0.145568   -0.235307  \n",
       "Price_Range             -0.060546   -0.001259  \n",
       "Number_of_Reviews        0.149102   -0.015838  \n",
       "NAN_Number_of_Reviews   -0.259080   -0.056705  \n",
       "Capital_City             0.066806    0.008214  \n",
       "Сity_population          0.063018    0.017228  \n",
       "Rest_num                 0.063018    0.017228  \n",
       "NAN_Cuisine Style       -0.230935   -0.030967  \n",
       "Count_Cuisine_Style      0.283155   -0.031661  \n",
       "NaN_Price               -0.345580   -0.043167  \n",
       "NAN_Reviews                   NaN         NaN  \n",
       "len_date                 0.653001    0.133700  \n",
       "days_between_Reviews     0.159695    0.084963  \n",
       "Review_pos               1.000000   -0.026835  \n",
       "Review_neg              -0.026835    1.000000  "
      ]
     },
     "execution_count": 65,
     "metadata": {},
     "output_type": "execute_result"
    }
   ],
   "source": [
    "df.corr()"
   ]
  },
  {
   "cell_type": "code",
   "execution_count": 66,
   "metadata": {},
   "outputs": [
    {
     "data": {
      "image/png": "[encoded data removed]",
      "text/plain": [
       "<Figure size 720x504 with 1 Axes>"
      ]
     },
     "metadata": {
      "needs_background": "light"
     },
     "output_type": "display_data"
    }
   ],
   "source": [
    "plt.rcParams[\"figure.figsize\"] = (10, 7)\n",
    "sns.distplot(df[\"Ranking\"], kde=False)\n",
    "plt.show()"
   ]
  },
  {
   "cell_type": "code",
   "execution_count": 67,
   "metadata": {},
   "outputs": [
    {
     "data": {
      "text/plain": [
       "<matplotlib.axes._subplots.AxesSubplot at 0x7fdd25c6c610>"
      ]
     },
     "execution_count": 67,
     "metadata": {},
     "output_type": "execute_result"
    },
    {
     "data": {
      "image/png": "[encoded data removed]",
      "text/plain": [
       "<Figure size 1080x576 with 1 Axes>"
      ]
     },
     "metadata": {
      "needs_background": "light"
     },
     "output_type": "display_data"
    }
   ],
   "source": [
    "# попробуем посмотреть на распределение 'Rating' в зависимости от города\n",
    "plt.figure(figsize=(15,8))\n",
    "sns.countplot(y='Rating', hue='City',data=df)"
   ]
  },
  {
   "cell_type": "code",
   "execution_count": 68,
   "metadata": {},
   "outputs": [
    {
     "data": {
      "text/plain": [
       "<matplotlib.axes._subplots.AxesSubplot at 0x7fdd2c70b100>"
      ]
     },
     "execution_count": 68,
     "metadata": {},
     "output_type": "execute_result"
    },
    {
     "data": {
      "image/png": "[encoded data removed]",
      "text/plain": [
       "<Figure size 1080x576 with 1 Axes>"
      ]
     },
     "metadata": {
      "needs_background": "light"
     },
     "output_type": "display_data"
    }
   ],
   "source": [
    "# попробуем посмотреть, как распределено количество количество ресторанов по \n",
    "# количеству населения в городах.\n",
    "\n",
    "plt.figure(figsize=(15, 8))\n",
    "sns.countplot(y='Сity_population', hue='Rest_num', data=df)"
   ]
  },
  {
   "cell_type": "code",
   "execution_count": 69,
   "metadata": {
    "scrolled": true
   },
   "outputs": [
    {
     "data": {
      "text/plain": [
       "<matplotlib.axes._subplots.AxesSubplot at 0x7fdd2bef5d00>"
      ]
     },
     "execution_count": 69,
     "metadata": {},
     "output_type": "execute_result"
    },
    {
     "data": {
      "image/png": "[encoded data removed]",
      "text/plain": [
       "<Figure size 1080x576 with 1 Axes>"
      ]
     },
     "metadata": {
      "needs_background": "light"
     },
     "output_type": "display_data"
    }
   ],
   "source": [
    "# попробуем посмотреть на распределение 'Rating' в зависимости от цены\n",
    "plt.figure(figsize=(15,8))\n",
    "sns.countplot(y='Rating', hue='Price_Range',data=df)"
   ]
  },
  {
   "cell_type": "code",
   "execution_count": 70,
   "metadata": {},
   "outputs": [
    {
     "data": {
      "text/plain": [
       "<matplotlib.axes._subplots.AxesSubplot at 0x7fdd2e3e0fd0>"
      ]
     },
     "execution_count": 70,
     "metadata": {},
     "output_type": "execute_result"
    },
    {
     "data": {
      "image/png": "[encoded data removed]",
      "text/plain": [
       "<Figure size 720x504 with 1 Axes>"
      ]
     },
     "metadata": {
      "needs_background": "light"
     },
     "output_type": "display_data"
    }
   ],
   "source": [
    "# влияние ценновой категории ресторана на рейтинг\n",
    "ct = pd.crosstab([df.Price_Range], df['Rating'])\n",
    "ct.plot(kind='bar')"
   ]
  },
  {
   "cell_type": "code",
   "execution_count": 71,
   "metadata": {},
   "outputs": [
    {
     "data": {
      "text/plain": [
       "<matplotlib.collections.PathCollection at 0x7fdd2fe95370>"
      ]
     },
     "execution_count": 71,
     "metadata": {},
     "output_type": "execute_result"
    },
    {
     "data": {
      "image/png": "[encoded data removed]",
      "text/plain": [
       "<Figure size 720x504 with 1 Axes>"
      ]
     },
     "metadata": {
      "needs_background": "light"
     },
     "output_type": "display_data"
    }
   ],
   "source": [
    "# связь ценновой категории ресторана и количества отзывов\n",
    "plt.scatter(df['Price_Range'], df['Number_of_Reviews'])"
   ]
  },
  {
   "cell_type": "code",
   "execution_count": 72,
   "metadata": {},
   "outputs": [
    {
     "data": {
      "text/plain": [
       "<matplotlib.axes._subplots.AxesSubplot at 0x7fdd2bfdfa90>"
      ]
     },
     "execution_count": 72,
     "metadata": {},
     "output_type": "execute_result"
    },
    {
     "data": {
      "image/png": "[encoded data removed]",
      "text/plain": [
       "<Figure size 720x504 with 1 Axes>"
      ]
     },
     "metadata": {
      "needs_background": "light"
     },
     "output_type": "display_data"
    }
   ],
   "source": [
    "df['City'].value_counts(ascending=True).plot(kind='barh')"
   ]
  },
  {
   "cell_type": "code",
   "execution_count": 73,
   "metadata": {},
   "outputs": [
    {
     "data": {
      "image/png": "[encoded data removed]",
      "text/plain": [
       "<Figure size 720x504 with 1 Axes>"
      ]
     },
     "metadata": {
      "needs_background": "light"
     },
     "output_type": "display_data"
    }
   ],
   "source": [
    "# посмотрим рейниг по городам\n",
    "df.groupby('City')['Rating'].mean().plot(kind='bar') \n",
    "plt.ylabel('Rating')\n",
    "plt.show()"
   ]
  },
  {
   "cell_type": "code",
   "execution_count": 74,
   "metadata": {},
   "outputs": [
    {
     "data": {
      "image/png": "[encoded data removed]",
      "text/plain": [
       "<Figure size 720x504 with 1 Axes>"
      ]
     },
     "metadata": {
      "needs_background": "light"
     },
     "output_type": "display_data"
    }
   ],
   "source": [
    "# посмотрим на топ 10 городов\n",
    "for x in (df['City'].value_counts())[0:10].index:\n",
    "    df['Ranking'][df['City'] == x].hist(bins=100)\n",
    "plt.show()"
   ]
  },
  {
   "cell_type": "code",
   "execution_count": 75,
   "metadata": {},
   "outputs": [
    {
     "data": {
      "image/png": "[encoded data removed]",
      "text/plain": [
       "<Figure size 720x504 with 1 Axes>"
      ]
     },
     "metadata": {
      "needs_background": "light"
     },
     "output_type": "display_data"
    }
   ],
   "source": [
    "# распределение по Лондону\n",
    "sns.distplot(df[\"Ranking\"][df[\"City\"] == \"London\"], kde=False)\n",
    "plt.show()"
   ]
  },
  {
   "cell_type": "code",
   "execution_count": 76,
   "metadata": {},
   "outputs": [
    {
     "data": {
      "image/png": "[encoded data removed]",
      "text/plain": [
       "<Figure size 720x504 with 1 Axes>"
      ]
     },
     "metadata": {
      "needs_background": "light"
     },
     "output_type": "display_data"
    }
   ],
   "source": [
    "# распределение по Парижу\n",
    "sns.distplot(df[\"Ranking\"][df[\"City\"] == \"Paris\"], kde=False)\n",
    "plt.show()"
   ]
  },
  {
   "cell_type": "code",
   "execution_count": 77,
   "metadata": {},
   "outputs": [
    {
     "data": {
      "image/png": "[encoded data removed]",
      "text/plain": [
       "<Figure size 720x504 with 1 Axes>"
      ]
     },
     "metadata": {
      "needs_background": "light"
     },
     "output_type": "display_data"
    }
   ],
   "source": [
    "for x in (df[\"City\"].value_counts())[0:5].index:\n",
    "    sns.distplot(df[\"Ranking\"][df[\"City\"] == x], kde=False)\n",
    "plt.show()"
   ]
  },
  {
   "cell_type": "markdown",
   "metadata": {},
   "source": [
    "Ranking распределен равномерно, но в больших городах больше ресторанов, из-за этого появляется смещение."
   ]
  },
  {
   "cell_type": "code",
   "execution_count": 78,
   "metadata": {},
   "outputs": [
    {
     "data": {
      "image/png": "[encoded data removed]",
      "text/plain": [
       "<Figure size 720x504 with 1 Axes>"
      ]
     },
     "metadata": {
      "needs_background": "light"
     },
     "output_type": "display_data"
    }
   ],
   "source": [
    "# нормализуем столбец Ranking в зависимости от города и добавим признак в датасет\n",
    "df[\"Ranking_norm\"] = df.groupby(\"City\")[\"Ranking\"].rank(pct=True)\n",
    "sns.distplot(df[\"Ranking_norm\"], kde=False)\n",
    "plt.show()"
   ]
  },
  {
   "cell_type": "code",
   "execution_count": 79,
   "metadata": {},
   "outputs": [
    {
     "data": {
      "image/png": "[encoded data removed]",
      "text/plain": [
       "<Figure size 720x504 with 1 Axes>"
      ]
     },
     "metadata": {
      "needs_background": "light"
     },
     "output_type": "display_data"
    }
   ],
   "source": [
    "# распределение Ranking в случае наивысшего рейтинга\n",
    "sns.distplot(df[df[\"Rating\"] == 5][\"Ranking\"], kde=False)\n",
    "plt.show()"
   ]
  },
  {
   "cell_type": "code",
   "execution_count": 80,
   "metadata": {},
   "outputs": [
    {
     "data": {
      "image/png": "[encoded data removed]",
      "text/plain": [
       "<Figure size 720x504 with 1 Axes>"
      ]
     },
     "metadata": {
      "needs_background": "light"
     },
     "output_type": "display_data"
    }
   ],
   "source": [
    "# распределение Ranking, в случае, когда рейтинг меньше 4\n",
    "sns.distplot(df[(df[\"Rating\"] < 4)][\"Ranking\"], kde=False)\n",
    "plt.show()"
   ]
  },
  {
   "cell_type": "code",
   "execution_count": 81,
   "metadata": {},
   "outputs": [],
   "source": [
    "df = df.loc[df['Rating'] != 2]"
   ]
  },
  {
   "cell_type": "code",
   "execution_count": 82,
   "metadata": {},
   "outputs": [
    {
     "data": {
      "image/png": "[encoded data removed]",
      "text/plain": [
       "<Figure size 720x504 with 1 Axes>"
      ]
     },
     "metadata": {
      "needs_background": "light"
     },
     "output_type": "display_data"
    }
   ],
   "source": [
    "# посмотрим на распределение признака\n",
    "sns.distplot(df[\"Number_of_Reviews\"], kde=False)\n",
    "plt.show()"
   ]
  },
  {
   "cell_type": "code",
   "execution_count": 83,
   "metadata": {},
   "outputs": [
    {
     "data": {
      "image/png": "[encoded data removed]",
      "text/plain": [
       "<Figure size 720x504 with 1 Axes>"
      ]
     },
     "metadata": {
      "needs_background": "light"
     },
     "output_type": "display_data"
    }
   ],
   "source": [
    "# посмотрим, какое среднее значение количества отзывов в зависимости от города\n",
    "mean_num_of_reviews = df.groupby(\n",
    "    \"City\")[\"Number_of_Reviews\"].mean().sort_values(ascending=False)\n",
    "ax = sns.barplot(mean_num_of_reviews.index, mean_num_of_reviews)\n",
    "ax.set_xticklabels(ax.get_xticklabels(), rotation=90)\n",
    "plt.show()"
   ]
  },
  {
   "cell_type": "code",
   "execution_count": 84,
   "metadata": {},
   "outputs": [],
   "source": [
    "# посмотрим, различаются ли распределения 'Rating' в зависимости от значения\n",
    "# переменных с помощью box-plot\n",
    "\n",
    "\n",
    "def get_boxplot(column):\n",
    "    fig, ax = plt.subplots(figsize=(14, 4))\n",
    "    sns.boxplot(x=column, y='Rating',\n",
    "                data=df.loc[df.loc[:, column].isin(\n",
    "                    df.loc[:, column].value_counts().index[:29])],\n",
    "                ax=ax)\n",
    "    plt.xticks(rotation=45)\n",
    "    ax.set_title('Boxplot for ' + column)\n",
    "    plt.show()"
   ]
  },
  {
   "cell_type": "code",
   "execution_count": 85,
   "metadata": {},
   "outputs": [],
   "source": [
    "variables = ['City','Cuisine_Style', 'Ranking', 'Price_Range', 'Number_of_Reviews',\n",
    "        'Count_Cuisine_Style','Capital_City', 'Сity_population']"
   ]
  },
  {
   "cell_type": "code",
   "execution_count": 86,
   "metadata": {},
   "outputs": [
    {
     "data": {
      "image/png": "[encoded data removed]",
      "text/plain": [
       "<Figure size 1008x288 with 1 Axes>"
      ]
     },
     "metadata": {
      "needs_background": "light"
     },
     "output_type": "display_data"
    },
    {
     "data": {
      "image/png": "[encoded data removed]",
      "text/plain": [
       "<Figure size 1008x288 with 1 Axes>"
      ]
     },
     "metadata": {
      "needs_background": "light"
     },
     "output_type": "display_data"
    },
    {
     "data": {
      "image/png": "[encoded data removed]",
      "text/plain": [
       "<Figure size 1008x288 with 1 Axes>"
      ]
     },
     "metadata": {
      "needs_background": "light"
     },
     "output_type": "display_data"
    },
    {
     "data": {
      "image/png": "[encoded data removed]",
      "text/plain": [
       "<Figure size 1008x288 with 1 Axes>"
      ]
     },
     "metadata": {
      "needs_background": "light"
     },
     "output_type": "display_data"
    },
    {
     "data": {
      "image/png": "[encoded data removed]",
      "text/plain": [
       "<Figure size 1008x288 with 1 Axes>"
      ]
     },
     "metadata": {
      "needs_background": "light"
     },
     "output_type": "display_data"
    },
    {
     "data": {
      "image/png": "[encoded data removed]",
      "text/plain": [
       "<Figure size 1008x288 with 1 Axes>"
      ]
     },
     "metadata": {
      "needs_background": "light"
     },
     "output_type": "display_data"
    },
    {
     "data": {
      "image/png": "[encoded data removed]",
      "text/plain": [
       "<Figure size 1008x288 with 1 Axes>"
      ]
     },
     "metadata": {
      "needs_background": "light"
     },
     "output_type": "display_data"
    },
    {
     "data": {
      "image/png": "[encoded data removed]",
      "text/plain": [
       "<Figure size 1008x288 with 1 Axes>"
      ]
     },
     "metadata": {
      "needs_background": "light"
     },
     "output_type": "display_data"
    }
   ],
   "source": [
    "for col in variables:\n",
    "    get_boxplot(col)"
   ]
  },
  {
   "cell_type": "markdown",
   "metadata": {},
   "source": [
    "Вывод: чем больше город, тем выше рейтинг, больше отзывов, ценовый сегмент ресторана не особо влияет на рейтинг, Ranking имеет нормальное распределение, но в крупных городах больше ресторанов, из-за этого есть смещение, поэтому ввели признак 'Ranking_norm' и тем самым нормализовали столбец Ranking в зависимости от города, наибольшая корреляция у признаков: 'Сity_population', 'Rest_num', наибольшее количество отзывов в Риме, понятно почему итальянская кухня/блюда трижды в топе."
   ]
  },
  {
   "cell_type": "markdown",
   "metadata": {},
   "source": [
    "# Разбиваем датафрейм на части, необходимые для обучения и тестирования модели"
   ]
  },
  {
   "cell_type": "code",
   "execution_count": 87,
   "metadata": {},
   "outputs": [],
   "source": [
    "\n",
    "# Х - данные с информацией о ресторанах, у - целевая переменная (рейтинги ресторанов)\n",
    "X = df.drop(['City','Cuisine_Style','Reviews','Cuisine_Style_list', 'date_of_Review', 'Rating'], axis = 1)\n",
    "y = df['Rating']"
   ]
  },
  {
   "cell_type": "code",
   "execution_count": 88,
   "metadata": {},
   "outputs": [],
   "source": [
    "# Загружаем специальный инструмент для разбивки:\n",
    "from sklearn.model_selection import train_test_split"
   ]
  },
  {
   "cell_type": "code",
   "execution_count": 89,
   "metadata": {},
   "outputs": [],
   "source": [
    "# Наборы данных с меткой \"train\" будут использоваться для обучения модели, \"test\" - для тестирования.\n",
    "# Для тестирования мы будем использовать 25% от исходного датасета.\n",
    "X_train, X_test, y_train, y_test = train_test_split(X, y, test_size=0.25)"
   ]
  },
  {
   "cell_type": "markdown",
   "metadata": {},
   "source": [
    "# Создаём, обучаем и тестируем модель"
   ]
  },
  {
   "cell_type": "code",
   "execution_count": 90,
   "metadata": {},
   "outputs": [],
   "source": [
    "# Импортируем необходимые библиотеки:\n",
    "from sklearn.ensemble import RandomForestRegressor # инструмент для создания и обучения модели\n",
    "from sklearn import metrics # инструменты для оценки точности модели"
   ]
  },
  {
   "cell_type": "code",
   "execution_count": 91,
   "metadata": {},
   "outputs": [],
   "source": [
    "# Создаём модель\n",
    "regr = RandomForestRegressor(n_estimators=100)\n",
    "\n",
    "# Обучаем модель на тестовом наборе данных\n",
    "regr.fit(X_train, y_train)\n",
    "\n",
    "# Используем обученную модель для предсказания рейтинга ресторанов в тестовой выборке.\n",
    "# Предсказанные значения записываем в переменную y_pred\n",
    "y_pred = regr.predict(X_test)"
   ]
  },
  {
   "cell_type": "code",
   "execution_count": 92,
   "metadata": {},
   "outputs": [
    {
     "name": "stdout",
     "output_type": "stream",
     "text": [
      "MAE: 0.2090439093484419\n"
     ]
    }
   ],
   "source": [
    "# Сравниваем предсказанные значения (y_pred) с реальными (y_test), и смотрим насколько они в среднем отличаются\n",
    "# Метрика называется Mean Absolute Error (MAE) и показывает среднее отклонение предсказанных значений от фактических.\n",
    "print('MAE:', metrics.mean_absolute_error(y_test, y_pred))"
   ]
  },
  {
   "cell_type": "code",
   "execution_count": null,
   "metadata": {},
   "outputs": [],
   "source": []
  },
  {
   "cell_type": "code",
   "execution_count": null,
   "metadata": {},
   "outputs": [],
   "source": []
  },
  {
   "cell_type": "code",
   "execution_count": null,
   "metadata": {},
   "outputs": [],
   "source": []
  },
  {
   "cell_type": "code",
   "execution_count": null,
   "metadata": {},
   "outputs": [],
   "source": []
  }
 ],
 "metadata": {
  "kernelspec": {
   "display_name": "Python 3",
   "language": "python",
   "name": "python3"
  },
  "language_info": {
   "codemirror_mode": {
    "name": "ipython",
    "version": 3
   },
   "file_extension": ".py",
   "mimetype": "text/x-python",
   "name": "python",
   "nbconvert_exporter": "python",
   "pygments_lexer": "ipython3",
   "version": "3.8.3"
  }
 },
 "nbformat": 4,
 "nbformat_minor": 2
}
